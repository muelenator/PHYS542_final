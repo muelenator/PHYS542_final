{
 "cells": [
  {
   "cell_type": "markdown",
   "id": "08fde161-e8c1-41f4-867b-df624f509a60",
   "metadata": {
    "tags": []
   },
   "source": [
    "# Introduction to Lattice QCD\n",
    "Last revised: 4-25-2022 by Richard Mueller [rjm6826@psu.edu]\n",
    "\n",
    "An introduction to lattice QCD based on 'Lattice QCD for Novices' by Peter Lepage.\n",
    "\n",
    "Submitted as final project for Penn State's PHYS542: Standard Model (4-25-2022).\n",
    "\n",
    "Revisions:\n",
    "* v2: Tests if removing the Nth integral improves results.\n",
    "* v3: Organized code. Added new sections\n",
    "* v4: Cut non-working code"
   ]
  },
  {
   "cell_type": "markdown",
   "id": "e3e14096-a437-4ea8-8a47-34c27270d8d9",
   "metadata": {},
   "source": [
    "$$\\newcommand{\\bra}[1]{\\langle{#1}|}$$\n",
    "$$\\newcommand{\\ket}[1]{|{#1}\\rangle}$$\n",
    "$$\\newcommand{\\braket}[2]{\\left\\langle{#1}\\middle|{#2}\\right\\rangle}$$\n",
    "$$\\newcommand{\\bramket}[3]{\\left\\langle{#1}|{#2}|{#3}\\right\\rangle}$$"
   ]
  },
  {
   "cell_type": "code",
   "execution_count": 1,
   "id": "3f57f86a-b79a-471c-b0a2-10fe564b8044",
   "metadata": {},
   "outputs": [],
   "source": [
    "import numpy as np\n",
    "import scipy.integrate as integrate\n",
    "import matplotlib.pyplot as plt\n",
    "import time"
   ]
  },
  {
   "cell_type": "markdown",
   "id": "a5b0bef0-0e55-4c3a-a378-4d39b7057736",
   "metadata": {
    "tags": []
   },
   "source": [
    "## The Path Integral\n",
    "\n",
    "Let's look at the Schodinger equation in the time independent case. Time evolution is governed by\n",
    "\n",
    "$$ i\\hbar\\partial_{t}\\ket{\\psi(t)} = H\\ket{\\psi(t)} \\Longrightarrow \\ket{\\psi(t)} = U(t,t')\\ket{\\psi(t)} $$\n",
    "$$ U(t,t') = e^{-iH(t-t')/\\hbar} $$\n",
    "\n",
    "provided that $ t > t' $. $ U(t,t') $ is called the time evolution operator: acting on a position $ \\ket{x} $ with it will tell us where a wave at position x at time t will wind up at time t'. The matrix element \n",
    "\n",
    "$$ \\bramket{x}{U(t,t')}{x'} = \\bramket{x}{e^{-iH(t-t')/\\hbar}}{x'} \\equiv U(x,t;x',t') $$\n",
    "\n",
    "then tells us the probability of the finding the original propogated wave at x',t'. This function lends $ U(x,t;x',t') $ its name of *propogator*. **Complete knowledge of the propogator, given an initial state, provides complete information about the wave dynamics** (or field dynamics soon... hopefully):\n",
    "\n",
    "$$\n",
    "\\begin{align}\n",
    "    \\psi(x,t) = \\bramket{x}{U(t,t')}{\\psi(t')} &= \\int dx' \\bramket{x}{U(t,t')}{x'} \\braket{x'}{\\psi(t')} \\\\\n",
    "                                               &= \\int dx' \\bramket{x}{U(t,t')}{x'} \\psi(x',t') \\\\\n",
    "                                               &= \\int dx' U(x,t;x',t') \\psi(x',t')\n",
    "\\end{align}\n",
    "$$"
   ]
  },
  {
   "cell_type": "markdown",
   "id": "599930be-c1fd-4f0c-a407-2130dd552dfd",
   "metadata": {},
   "source": [
    "<table>\n",
    "    <td> <img src=\"Paths.jpg\" alt=\"Drawing\" style=\"width: 450px;\"/> </td>\n",
    "</table>"
   ]
  },
  {
   "cell_type": "markdown",
   "id": "fa98ad2e-3a29-4509-b4cc-ed0284b0a4a7",
   "metadata": {},
   "source": [
    "It can be shown that the propogator may be partitioned into $n$ time steps $ \\delta t $ such that\n",
    "\n",
    "$$\n",
    "U(x,t;x',t') = \\int \\prod_{j=1}^{n} \\frac{dp_j}{2\\pi\\hbar} \\prod_{j=1}^{n-1} dx_j e^{-i\\delta{t}/\\hbar \\sum_{j=0}^{n-1}\\left[T(p_{j+1}) + V(x_j) - \\frac{p_{j+1} (x_{j+1} - x_j)}{\\delta{t}} \\right] }\n",
    "$$\n",
    "\n",
    "The $ \\frac{(x_{j+1} - x_j)}{\\delta{t}} $ can be identified as the discritized time derivative of $x_{j}$, $\\dot{x_{j}}$. Hence the exponent can be identified with the discretized action,\n",
    "\n",
    "$$ \\begin{align}\n",
    "S = -\\delta{t} \\sum_{j=0}^{n-1} \\left[T(p_{j+1}) + V(x_j) - \\frac{p_{j+1} (x_{j+1} - x_j)}{\\delta{t}} \\right] &= -\\delta{t} \\sum_{j=0}^{n-1}\\left[T(p(t_j)) + V(x(t_j)) - p(t_j)\\dot{x}(t_j)\\right] \\\\\n",
    "                                                                                     &= \\delta{t} \\sum_{j=0}^{n-1}L(x_j,p_j,t') \n",
    "\\end{align}\n",
    "$$\n",
    "\n",
    "In the continuum limit ($ \\delta{t} \\rightarrow 0 $ ) we are able to eliminate the integral of $p$ (gaussian):\n",
    "\n",
    "$$\n",
    "U(x,t;x',t') = \\int D[x] \\ e^{i/\\hbar S[x]} = \\int D[x] \\ exp\\left[i/\\hbar \\sum_{j=0}^{n-1}L(x_j,\\dot{x}_j,t') \\right]\n",
    "$$\n",
    "\n",
    "where $ D[x] = \\prod_{j=1}^{n-1} dx_j $. Our goal now is to find an efficient way to compute this quantity."
   ]
  },
  {
   "cell_type": "markdown",
   "id": "9f7b8058-11aa-4a14-9ed1-c6ab7adda6d7",
   "metadata": {
    "tags": []
   },
   "source": [
    "## The Discritized Path Integral\n"
   ]
  },
  {
   "cell_type": "markdown",
   "id": "ec9b6778-c5d0-423d-ba79-b723a3c677d9",
   "metadata": {},
   "source": [
    "### Representing an arbitrary particle path\n",
    "A general path $ x(t) $ from $x_i$ to $x_f$ can be arbitrarily long an complex. However, the contribution to the propogator from these paths are actually supressed! We can see this by exploring the action in the *finite difference approximation*.\n",
    "\n",
    "We approximate the path by specifying $x(t)$ only at the nodes, or sites, of a discretized time line:\n",
    "\n",
    "$$ t_n = t_i + a*n $$\n",
    "\n",
    "for $n=0,1,2,...,N$ and where $a$ is the *grid spacing*. The path is represented as a vector of numbers,\n",
    "\n",
    "$$ x = \\left[ x(t_0),x(t_1),...,x(t_N)\\right] $$\n",
    "\n",
    "So, the integral over all paths becomes the integral over all possible values of $x$ at each node:\n",
    "\n",
    "$$ \\int D[x(t)] \\longrightarrow A\\int_{-\\infty}^{\\infty} dx_1 dx_2 ... dx_{N-1} $$\n",
    "\n",
    "Note, the endpoint nodes $x_0,x_N$ are not integrated over, since they are held fixed/defined for all paths. $A$ is the integration normalization factor, which will be useful in the examples which follow. In one dimension, it is $ A = \\left( \\frac{m}{2\\pi a} \\right)^{N/2} $.\n",
    "\n",
    "#### Evaluation of the action: The finite difference approximation\n",
    "With these tools, our focus becomes\n",
    "\n",
    "$$ \\bramket{x}{e^{-HT}}{x} \\approx A\\int_{-\\infty}^{\\infty} dx_1 dx_2 ... dx_{N-1} e^{-S_{lat}[x]} $$\n",
    "\n",
    "where $ S_{lat}[x] $ is given by\n",
    "\n",
    "$$ S_{lat}[x] = \\sum_{j=1}^{N-1} \\left(T(x_j) + V(x_j) \\right) = \\sum_{j=0}^{N-1} \\left( \\frac{m}{2a}\\left(x_{j+1} - x_j \\right)^2 + aV(x_j) \\right) $$\n",
    "\n",
    "Note, when the difference between successive time steps is large, the exponential factor contributes less. Hence, paths which vary quickly are supressed in the integration."
   ]
  },
  {
   "cell_type": "markdown",
   "id": "0f6fcbce-78f1-45ba-8c67-8314d4a3efb9",
   "metadata": {},
   "source": [
    "### Application #1: Finding the ground state of a positive valued wavefunction\n",
    "We first turn our interest to those propogators who time evolve for long periods of time $ T = t - t' $: the self propogator is\n",
    "$$ \\bramket{x}{e^{-HT}}{x} = \\sum_{n} \\braket{x}{E_n}e^{-E_n T}\\braket{E_n}{x} $$\n",
    "\n",
    "If T is large enough, only the lowest energy term will significantly contribute:\n",
    "$$ \\bramket{x}{e^{-HT}}{x} \\longrightarrow^{T\\to\\infty} e^{-E_0 T} \\left|\\braket{x}{E_0}\\right|^2 $$\n",
    "\n",
    "Integrating over x provides the ground state energy,\n",
    "$$ \\int dx \\bramket{x}{e^{-HT}}{x}  \\longrightarrow e^{-E_0 T} $$\n",
    "\n",
    "The ground state wavefunction is then determined \n",
    "$$ \\ket{E_0 (x)} = \\braket{x}{E_0} = \\left[e^{E_0 T} \\bramket{x}{e^{-HT}}{x} \\right]^\\frac{1}{2} $$\n",
    "\n",
    "Once we fix T,n, we can calculate\n",
    "* $E_0$ from $ \\int dx \\bramket{x}{e^{-HT}}{x} $\n",
    "* $ \\ket{E_0 (x)} $ from $ \\bramket{x}{e^{-HT}}{x} $"
   ]
  },
  {
   "cell_type": "markdown",
   "id": "ac898ac2-e46f-4a88-94ac-31828fd79fa7",
   "metadata": {},
   "source": [
    "### An example: Ground state of the harmonic oscillator"
   ]
  },
  {
   "cell_type": "markdown",
   "id": "87818c63-f9f5-42e6-8e89-6c4f316c0fe9",
   "metadata": {},
   "source": [
    "Lets keep track of our oscillator properties"
   ]
  },
  {
   "cell_type": "code",
   "execution_count": 2,
   "id": "d6ab2e0e-acba-4e8d-89d3-d1d09c5df5d2",
   "metadata": {},
   "outputs": [],
   "source": [
    "# Let's keep track of our wavefunction properties\n",
    "hbar = 1\n",
    "class oscillator():\n",
    "    def __init__(self, boundaries, N=8, m=1, k=1, **kwargs):\n",
    "        self.bdd = boundaries # extent of the wavefunction\n",
    "        self.N = N # N: time steps\n",
    "        self.m = m # a: oscillator mass\n",
    "        self.k = k # k: oscillator strength\n",
    "\n",
    "        # Grid spacing\n",
    "        if \"a\" in kwargs: self.a = kwargs[\"a\"]\n",
    "        else: self.a = .5\n",
    "\n",
    "        self.Norm = (self.m/(2*np.pi*self.a))**(self.N/2) # Wave function normalization\n",
    "        \n",
    "    # Return the HO potential\n",
    "    def harmonicV(self,x):\n",
    "        return .5*self.k*x**2"
   ]
  },
  {
   "cell_type": "markdown",
   "id": "1abe31c9-57ea-4b30-92b7-16923f09d626",
   "metadata": {},
   "source": [
    "We'll want to compare our results to the exact solution. Below are some tools for that."
   ]
  },
  {
   "cell_type": "code",
   "execution_count": 3,
   "id": "36a3330a-a12d-41a4-a2a9-79d972ed60f9",
   "metadata": {},
   "outputs": [],
   "source": [
    "class ExactHarmonicOsc(oscillator):\n",
    "    def __init__(self, boundaries, N=8, m=1, k=1, **kwargs):\n",
    "        super().__init__(boundaries, N=8, m=1, k=1, **kwargs)\n",
    "        self.w = np.sqrt(self.k/self.m)\n",
    "\n",
    "    # Return the HO ground state\n",
    "    def HO_GS(self,x):\n",
    "        amp = ((self.m*self.w)/(np.pi*hbar))**(1/4)\n",
    "        return amp*np.exp(-self.m*self.w*x**2 / (2*hbar))\n",
    "\n",
    "    # Return the HO first excited state\n",
    "    def HO_E1(self,x):\n",
    "        amp = ((self.m*self.w)/(np.pi*hbar))**(1/4) * np.sqrt(2*self.m*self.w/hbar)*x\n",
    "        return amp*np.exp(-(self.m*self.w)*x**2 / (2*hbar))\n",
    "\n",
    "    # Return the HO energy of the nth state\n",
    "    def HO_E(self,n):\n",
    "        return (n+1/2)*hbar*self.w"
   ]
  },
  {
   "cell_type": "markdown",
   "id": "a3bf68df-f214-4bc1-a1b1-b2d538909e8a",
   "metadata": {},
   "source": [
    "Here are the tools needed for computing the path integral for the harmonic oscillator."
   ]
  },
  {
   "cell_type": "code",
   "execution_count": 4,
   "id": "c3d91531-ed8e-43e2-9712-d25dc12daccd",
   "metadata": {},
   "outputs": [],
   "source": [
    "class DiscHarmonicOsc(oscillator):\n",
    "    def __init__(self, boundaries, N=8, m=1, k=1, **kwargs):\n",
    "        super().__init__(boundaries, N, m, k, **kwargs)\n",
    "    \n",
    "    # Return the action\n",
    "    def S(self,x):\n",
    "        KE,PE = 0.0, 0.0\n",
    "        \n",
    "        for i in range(len(x)-1):\n",
    "            KE += self.m/(2*self.a) * (x[i+1] - x[i])**2\n",
    "            PE += self.a * self.harmonicV(x[i])\n",
    "            \n",
    "        return (KE+PE)\n",
    "    \n",
    "    # Returns Norm*e^(-S[x])\n",
    "    def expS(self,*args):\n",
    "        x = list(args)\n",
    "        xi = args[-1]\n",
    "        x.insert(0,xi)\n",
    "    \n",
    "        return self.Norm*np.exp(-self.S(x))\n",
    "    \n",
    "    # Takes in the wf squared and the pts it was eval. at, then returns the wf and energy\n",
    "    def makeGS(self,xGrid, result):\n",
    "        exp_E0T = 2*integrate.simps(y=result, x=xGrid) # *2 because we need the -x contribution too\n",
    "        E0 = -np.log(exp_E0T)/(self.N*self.a)\n",
    "\n",
    "        return np.sqrt(result/exp_E0T), E0 \n",
    "        \n"
   ]
  },
  {
   "cell_type": "markdown",
   "id": "8362addb-9f61-481a-83e7-f3245b4c70c0",
   "metadata": {},
   "source": [
    "We can integrate over the N-2 variables numerically using 'scipy' numerical integration package for vectors, nquad."
   ]
  },
  {
   "cell_type": "code",
   "execution_count": 5,
   "id": "dc53053d-5130-4500-bf7f-70be412f2c55",
   "metadata": {},
   "outputs": [
    {
     "name": "stdout",
     "output_type": "stream",
     "text": [
      "Time elapsed: 54.262887716293335 s\n"
     ]
    }
   ],
   "source": [
    "d_osc1 = DiscHarmonicOsc(boundaries=[-4, 4], N=5, m=1, k=1)\n",
    "e_osc1 = ExactHarmonicOsc(boundaries=d_osc1.bdd, N=d_osc1.N, m=d_osc1.m, k=d_osc1.k)\n",
    "\n",
    "xmax = 2.4\n",
    "nxpts = 12\n",
    "xGrid = np.linspace(0, xmax, nxpts)\n",
    "quadResult = np.zeros_like(xGrid)\n",
    "\n",
    "start = time.time()\n",
    "\n",
    "# Evaluate the propogator from x=0 to x=xmax\n",
    "for i,xi in enumerate(xGrid):\n",
    "    quadResult[i] = integrate.nquad(func = d_osc1.expS, ranges = (d_osc1.N-2)*[d_osc1.bdd], args = (xi,))[0] #, opts={'points': [-2,2]})[0] #,'epsabs': 1e-3, 'epsrel': 1e-1})[0]\n",
    "    \n",
    "end = time.time()\n",
    "print(\"Time elapsed: {} s\".format(end-start))"
   ]
  },
  {
   "cell_type": "code",
   "execution_count": 6,
   "id": "1ff45f62-6a16-44ac-a9f4-5328d2f6ccf7",
   "metadata": {},
   "outputs": [
    {
     "data": {
      "image/png": "[encoded data removed]",
      "text/plain": [
       "<Figure size 576x576 with 1 Axes>"
      ]
     },
     "metadata": {
      "needs_background": "light"
     },
     "output_type": "display_data"
    }
   ],
   "source": [
    "qGS0, qE0 = d_osc1.makeGS(xGrid,quadResult)\n",
    "\n",
    "fig1,ax1 = plt.subplots(figsize=(8,8))\n",
    "ax1.scatter(xGrid,qGS0,label=\"Discretized GS, E0 = {:.4f}\".format(qE0), color='red')\n",
    "ax1.plot(xGrid,e_osc1.HO_GS(xGrid),label=\"Exact GS, E0 = {:.2f}\".format(e_osc1.HO_E(0)))\n",
    "ax1.set_xlabel(\"x\", fontsize=16)\n",
    "ax1.set_ylabel(r\"$\\psi$\", fontsize=16)\n",
    "ax1.legend(fontsize=16)\n",
    "plt.show()"
   ]
  },
  {
   "cell_type": "markdown",
   "id": "fe7a36bb-28a3-4d36-9c0b-c8f8f10d9707",
   "metadata": {},
   "source": [
    "Not great, it misses the extremes of the wavefunction. Let's try another integration method."
   ]
  },
  {
   "cell_type": "markdown",
   "id": "1eb1c5f3-d431-4a82-87f6-52463c70db4a",
   "metadata": {
    "tags": []
   },
   "source": [
    "## Monte Carlo Evaluation of Path Integrals"
   ]
  },
  {
   "cell_type": "markdown",
   "id": "7fb58393-2e66-453f-9577-b75de62a90da",
   "metadata": {
    "tags": []
   },
   "source": [
    "### The Monte Carlo evaluation method"
   ]
  },
  {
   "cell_type": "markdown",
   "id": "b9193eba-577a-4620-897e-320bdf8505ca",
   "metadata": {},
   "source": [
    "Our goal is to compute\n",
    "\n",
    "$$ \\int_{\\vec{x}\\in D} f(\\vec{x})d\\vec{x} $$\n",
    "\n",
    "Doing some quick rearranging,\n",
    "\n",
    "$$ \\int_{\\vec{x}\\in D} f(\\vec{x})d\\vec{x} = \\int_{\\vec{x}\\in D} \\frac{f(\\vec{x})}{p(\\vec{x})} p(\\vec{x}) d\\vec{x} \n",
    "    \\equiv \\int_{\\vec{x}\\in D} g(\\vec{x}) p(\\vec{x}) d\\vec{x} = E\\left[g(\\vec{x})\\right] $$\n",
    "    \n",
    "In the discretized case, if we have sampled $ N_{cf} $ configurations of the path, this is equivalent to\n",
    "\n",
    "$$ E\\left[g(\\vec{x})\\right] = \\sum^{N_{cf}}_{j=0} \\frac{1}{N_{cf}} g(\\vec{x}_j) = \\sum^{N_{cf}}_{j=0} \\frac{1}{N_{cf}} \\frac{f(\\vec{x}_j)}{p(\\vec{x}_j)} $$\n",
    "\n",
    "We previously identified $ p(\\vec{x}) $ as a probability distribution: if we take it to be uniform, and that all variables have the same domain of integration, then all $\\vec{x}_j$ have the same probability of occuring within the sample:\n",
    "\n",
    "$$ \\int^{\\vec{x}_f}_{\\vec{x}_i} f(\\vec{x})d\\vec{x} \\approx \\sum^{N_{cf}}_{j=0} \\frac{1}{N_{cf}} \\frac{f(\\vec{x}_j)}{\\frac{1}{Area(\\vec{x}_f - \\vec{x}_i)}} = \\sum^{N_{cf}}_{j=0} \\frac{Area(\\vec{x}_f - \\vec{x}_i)}{N_{cf}} f(\\vec{x}_j) $$\n",
    "\n",
    "for finite $ N_{cf} $.\n"
   ]
  },
  {
   "cell_type": "code",
   "execution_count": 7,
   "id": "ddf1dd9b-9f9b-4d8f-96c2-af56228c5290",
   "metadata": {},
   "outputs": [],
   "source": [
    "def mc_integrate(func, bounds, N, N_cf = 1000, fixedEnds=True, **kwargs): # https://boyangzhao.github.io/posts/monte-carlo-integration\n",
    "    x_list = np.zeros((N_cf,N-1))\n",
    "    \n",
    "    if fixedEnds:\n",
    "        x_list[:,N-2] = np.full((N_cf,),kwargs[\"x0\"])\n",
    "        \n",
    "    Area=1\n",
    "    \n",
    "    # Generate random paths\n",
    "    for i, (a,b) in enumerate(bounds):\n",
    "        x_list[:,i] = np.random.uniform(a, b, (N_cf, ))\n",
    "        Area = Area*(b-a)\n",
    "    \n",
    "    y=0\n",
    "    \n",
    "    # Calculate f(x)\n",
    "    for i in range(N_cf):\n",
    "        if not kwargs:\n",
    "            y += func(*x_list[i])\n",
    "        elif fixedEnds:\n",
    "            y += func(*x_list[i])\n",
    "        else:\n",
    "            y += func(kwargs, *x_list[i])\n",
    "    \n",
    "    # Compute integral\n",
    "    integ = Area * y/N_cf\n",
    "    \n",
    "    return integ"
   ]
  },
  {
   "cell_type": "markdown",
   "id": "0b8c18fd-16cf-4bb8-93e5-e5795b2623f3",
   "metadata": {},
   "source": [
    "### Revisited: The harmonic oscillator ground state"
   ]
  },
  {
   "cell_type": "markdown",
   "id": "10c5fc18-fe18-4269-a5b5-b1173b743609",
   "metadata": {},
   "source": [
    "Recall, in our evaluation of the harmonic oscillator ground state, we were effectively taking the integral of $ e^{-S[x]} $: so, set $ f(\\vec{x}) \\equiv e^{-S[x]} $. We can still use the uniform distribution--there is a weight $ e^{-S[x]} $ assigned to each path, so the weights themselves are uniformly distributed across the domain.\n",
    "\n",
    "We now calculate\n",
    "\n",
    "$$ \\sum^{N_{cf}}_{j=0} \\frac{Area(\\vec{x}_f - \\vec{x}_i)}{N_{cf}} e^{-S[x]} $$"
   ]
  },
  {
   "cell_type": "code",
   "execution_count": 8,
   "id": "8ee7a524-e029-4494-b103-0a5bd3505a48",
   "metadata": {},
   "outputs": [
    {
     "name": "stdout",
     "output_type": "stream",
     "text": [
      "Time elapsed: 81.47866487503052 s\n"
     ]
    }
   ],
   "source": [
    "d_osc2 = DiscHarmonicOsc(boundaries=[-4, 4], N=8, m=1, k=1)\n",
    "\n",
    "mcResult = np.zeros_like(xGrid)\n",
    "\n",
    "start = time.time()\n",
    "for i,xi in enumerate(xGrid):\n",
    "    mcResult[i] = mc_integrate(func=d_osc2.expS, bounds=(d_osc2.N-2)*[d_osc2.bdd], N=d_osc2.N, N_cf=int(5e5), fixedEnds=True, x0=xi)\n",
    "    \n",
    "end = time.time()\n",
    "print(\"Time elapsed: {} s\".format(end-start))"
   ]
  },
  {
   "cell_type": "code",
   "execution_count": 9,
   "id": "9a105721-7037-4ad0-aaf3-32d56b2b6bc3",
   "metadata": {},
   "outputs": [
    {
     "data": {
      "image/png": "[encoded data removed]",
      "text/plain": [
       "<Figure size 576x576 with 1 Axes>"
      ]
     },
     "metadata": {
      "needs_background": "light"
     },
     "output_type": "display_data"
    }
   ],
   "source": [
    "mcGS0, mcE0 = d_osc2.makeGS(xGrid, mcResult)\n",
    "\n",
    "fig2,ax2 = plt.subplots(figsize=(8,8))\n",
    "ax2.scatter(xGrid,mcGS0,label=\"Monte Carlo GS, E0 = {:.4f}\".format(mcE0), color='black', marker=\"^\",s=2**6)\n",
    "ax2.scatter(xGrid,qGS0,label=\"Discretized GS, E0 = {:.4f}\".format(qE0), color='red')\n",
    "ax2.plot(xGrid,e_osc1.HO_GS(xGrid),label=\"Exact GS, E0 = {:.2f}\".format(e_osc1.HO_E(0)))\n",
    "ax2.legend(fontsize=16)\n",
    "ax2.set_xlabel(\"x\", fontsize=16)\n",
    "ax2.set_ylabel(r\"$\\psi$\", fontsize=16)\n",
    "plt.show()"
   ]
  },
  {
   "cell_type": "markdown",
   "id": "4dc7c4e2-2e1a-40ef-8df2-2687e9a980d5",
   "metadata": {},
   "source": [
    "The Monte Carlo does a much better job of integrating the extremes"
   ]
  },
  {
   "cell_type": "markdown",
   "id": "614fef87-a6c9-4b4f-8655-c4fa0ae5d2f0",
   "metadata": {},
   "source": [
    "### Application #2: Finding the first excited energy"
   ]
  },
  {
   "cell_type": "markdown",
   "id": "d96ec066-80bb-4ba9-9ba2-129e44a02a2d",
   "metadata": {},
   "source": [
    "So, getting the ground state energy was a cool trick. How about higher energies? It looks like we are going to need another trick. Consider the expectation value\n",
    "\n",
    "$$ \\left<x(t_2)x(t_1)\\right> \\equiv \\frac{\\int D[x] x(t_2)x(t_1)e^{-S[x]}}{\\int D[x] e^{-S[x]}} $$\n",
    "\n",
    "In order to find the average, we now integrate over all x; that is we now include the two path endpoints in our algorithms. By definition of the time evolution operator, the numerator is\n",
    "\n",
    "$$ \\left<x(t_2)x(t_1)\\right> = \\int dx \\bra{x}e^{-H(t_f - t_2)}\\tilde{x}e^{-H(t_2 - t_1)}\\tilde{x}e^{-H(t_1 - t_i)}\\ket{x} $$\n",
    "\n",
    "There is a better way to write this. With $ T=t_f - t_i $ & $ t = t_2 - t_1 $,\n",
    "\n",
    "$$ \\left<x(t_2)x(t_1)\\right> = \\frac{\\sum e^{-E_nT}\\bra{E_n}\\tilde{x}e^{-(H-E_n)t} \\tilde{x} \\ket{E_n}} {\\sum e^{-E_nT}} $$\n",
    "\n",
    "where we have evaluated $ e^{HT} = e^{E_nT} $ for its eigenvalue. Again, when T>>t and is large, then the ground state dominates, and if t is large (but $ T >> t $ still),\n",
    "\n",
    "$$\n",
    "\\begin{align} G(t) &\\equiv \\left<x(t_2)x(t_1)\\right> \\longrightarrow \\bramket{E_0}{\\tilde{x}e^{-(H-E_n)t}\\tilde{x}}{E_0}\n",
    "                     & \\longrightarrow \\left|\\bramket{E_0}{\\tilde{x}}{E_1}\\right|^2 e^{-(E_1 - E_0)t}... \n",
    "\\end{align} $$\n",
    "                     \n",
    "We can manipulate this expression to find $E_1$:\n",
    "\n",
    "$$ ln G(t) = 2ln(\\bramket{E_0}{\\tilde{x}}{E_1} - (E_1 - E_0)t $$\n",
    "$$ ln \\left(G(t)/G(t+a)\\right) \\longrightarrow (E_1 - E_0)a $$"
   ]
  },
  {
   "cell_type": "code",
   "execution_count": 10,
   "id": "aaa85ea2-cc0d-44a4-9e85-9d6b5a8069e6",
   "metadata": {},
   "outputs": [],
   "source": [
    "# Calculate the first excited state energy\n",
    "def make1E(self,resultn):\n",
    "    dE = np.log(resultn[:-2]/resultn[1:-1])/self.a    \n",
    "    return dE\n",
    "\n",
    "setattr(DiscHarmonicOsc, \"make1E\", make1E)"
   ]
  },
  {
   "cell_type": "markdown",
   "id": "7bf490c5-0988-4d06-9d76-2b96c7ece0c2",
   "metadata": {},
   "source": [
    "### The Metropolis Algorithm: A computational speed-up"
   ]
  },
  {
   "cell_type": "markdown",
   "id": "8fdbcb8d-f0be-4933-9efb-a862f16be30f",
   "metadata": {},
   "source": [
    "What if we could create some specialized random-vector generator that would create our Monte-Carlo set of paths that *already has* the probability weighting $ P[x] = e^{-S[x]} $ included in it? That way, we wouldn't have to create so many paths and weigh them afterwards!\n",
    "\n",
    "The Metropolis Algorithm begins with a random path $ x_0 $. $x_0$ is modified at each lattice point, creating a new (or *updated*) path $ x_1 $. We want to do something with $ \\Delta S $....\n",
    "\n",
    "The algorithm steps are as follows:\n",
    "1. Initialize the first path $ x_0 $ to all 0's. Set a \n",
    "2. Update the path: for the $ j^{th} $ lattice site on the $ n^{th} $ path $ x^n_j $,\n",
    "     1. Generate a random number $ \\delta $ in some finite range, and consider the same path with $ x^n_j \\rightarrow x^n_j + \\delta $; \n",
    "     2. If the action is reduced $ \\Delta S < 0 $ between these two paths, keep the new $ x_j $ and proceed to the next value of j.\n",
    "     3. Generate a randome number $0 \\leq \\eta \\leq 1$. If the action is increased $ \\Delta S > 0 $ between these two paths *and* if $ e^{-\\Delta S} > \\eta $, keep the new $ x_j $. Otherwise, restore the old value and move on to the next lattice point.\n",
    "3. Keep the path. Repeat the update N times\n",
    "4. Average the paths to get the estimate\n",
    "        \n",
    "The Metropolis Algorithm is 'not always the best', and there are a couple of optimization techniques we will use. \n",
    "1. Thinning out correlated paths\n",
    "    1. Adjusting epsilon - it has been advised that one keeps track of the \"success\" rate of the update step (2) and adjust epsilon so that it has about 50% success. This has already been tweaked to the value of 1.4.\n",
    "2. Thermalizing the lattice\n",
    "    1. The initial few paths will clearly be highly correlated--there is a significant chance that some points on the path don't even change from 0. To this end, we throw away some significant number of early paths. Tossing out the first ~100 paths works well."
   ]
  },
  {
   "cell_type": "code",
   "execution_count": 11,
   "id": "5d8dd2cd-9130-491b-acb7-f9dbdc1783e9",
   "metadata": {},
   "outputs": [],
   "source": [
    "# Calculates the difference in action that comes from site x[n]\n",
    "def dS_n(self,x,n):\n",
    "    KE = self.m/self.a * x[n]*(x[n] - x[(n+1)%self.N] - x[(n-1)%self.N])\n",
    "    PE = self.a * self.harmonicV(x[n])\n",
    "    \n",
    "    return KE+PE\n",
    "\n",
    "setattr(DiscHarmonicOsc, \"dS_n\", dS_n)\n",
    "\n",
    "# Metropolis ath update algorithm\n",
    "def maUpdate(x, osc, eps):\n",
    "    for n in range(osc.N-1):\n",
    "        dS_old = osc.dS_n(x,n)\n",
    "        xi = np.random.uniform(-eps, eps)\n",
    "\n",
    "        x[n] += xi\n",
    "        \n",
    "        dS_new = osc.dS_n(x, n)\n",
    "        \n",
    "        dS = dS_new - dS_old\n",
    "        \n",
    "        if dS > 0 and np.exp(-dS) < np.random.uniform(0,1): ################\n",
    "            x[n] -= xi\n",
    "\n",
    "# Metropolis integration\n",
    "def maMC_integrate(func, osc, eps, N_cor, N_cf, fixedEnds=False, **kwargs):\n",
    "    # Intialize\n",
    "    x = np.zeros(osc.N)\n",
    "    f_list = np.zeros((osc.N, N_cf))\n",
    "    avg_f = np.zeros(osc.N)\n",
    "    \n",
    "    # Throw out the first ~100 correlated paths\n",
    "    for j in range(5*N_cor):\n",
    "        maUpdate(x,osc,eps)\n",
    "\n",
    "    # Start to generate paths which will contribute to the average\n",
    "    for alpha in range(N_cf):\n",
    "        # Space out path samples by ~20 updates\n",
    "        for j in range(N_cor):\n",
    "            maUpdate(x,osc,eps)\n",
    "        \n",
    "        # Generate path to use\n",
    "        if not kwargs:\n",
    "            avg_f += func(*x)\n",
    "        elif fixedEnds:\n",
    "            avg_f += func(*x)\n",
    "        else:\n",
    "            f_list[:,alpha] += func(*x)\n",
    "    \n",
    "    # Average over N_cf paths\n",
    "    if not kwargs:\n",
    "        return avg_f[0]/N_cf/osc.N\n",
    "        \n",
    "    else:  \n",
    "        for n in range(osc.N-1):\n",
    "            for alpha in range(N_cf):\n",
    "                avg_f[n] += f_list[n][alpha] #mid_f[n][alpha]\n",
    "\n",
    "        avg_f = avg_f/N_cf/osc.N\n",
    "\n",
    "        return avg_f\n"
   ]
  },
  {
   "cell_type": "markdown",
   "id": "5a8a6ede-9ec5-45b0-a67d-6f508a56ba6a",
   "metadata": {},
   "source": [
    "These path integrals averages $ \\left<\\Gamma [x] \\right> $ of arbitrary functionals $ \\Gamma [x] $ can be used to compute any physical property of the excited states. Note\n",
    "\n",
    "$$ \\left<\\Gamma[x]\\right> = \\frac{\\int D[x] \\Gamma[x]e^{-S[x]}}{\\int D[x] e^{-S[x]}} $$\n",
    "\n",
    "We call the Monte Carlo uncertainty $ \\sigma_{\\bar{\\Gamma}} $. This will never be zero, since the number of paths will never be infinite, and is a potential source of error estimated as\n",
    "\n",
    "$$ \\sigma^2_{\\bar{\\Gamma}} \\approx \\frac{1}{N} \\left[ \\frac{1}{N} \\sum^{N}_{\\alpha=1} \\Gamma^2 [x^{\\alpha}] - \\bar{\\Gamma}^2 \\right] \n",
    "                            \\longrightarrow \\frac{\\left<\\Gamma^2 \\right> - \\left<\\Gamma\\right>^2 }{N} $$\n",
    "                            \n",
    "For N large, the statistical uncertainties are supposed to vanish."
   ]
  },
  {
   "cell_type": "markdown",
   "id": "30dfe7ee-92e8-4341-9998-b9c4d87a55a2",
   "metadata": {},
   "source": [
    "### Revisited: The harmonic oscillator"
   ]
  },
  {
   "cell_type": "markdown",
   "id": "a62ab30a-59ed-423c-983b-304fdd79d424",
   "metadata": {},
   "source": [
    "We can test this new method out by\n",
    "\n",
    "1. Finding the expectation value of H for low energy contributions, $ \\left< H \\right> $\n",
    "2. Finding $ \\Delta(E_1 - E_0) $ as mentioned before"
   ]
  },
  {
   "cell_type": "code",
   "execution_count": 12,
   "id": "7300830d-4a5b-4a99-b0be-1d91d1769df8",
   "metadata": {},
   "outputs": [],
   "source": [
    "def H(self,*xx):\n",
    "    KE,PE = 0.0, 0.0\n",
    "    x = list(xx)\n",
    "\n",
    "    for i in range(len(x)-1):\n",
    "        KE += self.m/(2*self.a) * (x[i+1] - x[i])**2\n",
    "        PE += self.a * self.harmonicV(x[i])\n",
    "\n",
    "    return (KE+PE)\n",
    "\n",
    "def G_ma(self, *xx):\n",
    "    x = list(xx)\n",
    "    g = np.zeros(len(x))\n",
    "\n",
    "    for n in range(len(x)-1):\n",
    "        for i in range(len(x)-1):\n",
    "            g[n] += x[i]*x[(i+n)%self.N] # it's now periodic, I guess\n",
    "        \n",
    "    return g\n",
    "\n",
    "setattr(DiscHarmonicOsc, \"H\", H)\n",
    "setattr(DiscHarmonicOsc, \"G_ma\", G_ma)"
   ]
  },
  {
   "cell_type": "code",
   "execution_count": 13,
   "id": "05fcb1cc-055d-47d8-a6b7-777be7909af3",
   "metadata": {},
   "outputs": [],
   "source": [
    "N_cor = 20 # Number of paths to generate, then skip in order to thermalize\n",
    "N_cf = 3500  # Number of paths to generate after thermalization\n",
    "eps = 1.4 # Path rejecting parameter, optimized before hand"
   ]
  },
  {
   "cell_type": "markdown",
   "id": "7e97315f-967c-4fb7-a4c1-fd13c9c5ad23",
   "metadata": {},
   "source": [
    "1. Finding the expectation value of H for low energy contributions, $ \\left< H \\right> $"
   ]
  },
  {
   "cell_type": "code",
   "execution_count": 14,
   "id": "822a03fe-8e60-4864-bc14-c3b30ccf2d3a",
   "metadata": {
    "tags": []
   },
   "outputs": [
    {
     "name": "stdout",
     "output_type": "stream",
     "text": [
      "Time elapsed: 12.041043996810913 s\n",
      "Ground state energy: 0.4591\n"
     ]
    }
   ],
   "source": [
    "d_osc2 = DiscHarmonicOsc(boundaries=[-4, 4], N=20, m=1, k=1)\n",
    "\n",
    "start = time.time()\n",
    "maMC_E0 = maMC_integrate(d_osc2.H, d_osc2, eps, N_cor, N_cf, fixedEnds=False)\n",
    "end = time.time()\n",
    "print(\"Time elapsed: {} s\".format(end-start))\n",
    "\n",
    "print(\"Ground state energy: {:.4f}\".format(maMC_E0))"
   ]
  },
  {
   "cell_type": "markdown",
   "id": "e2690466-6bf1-4c45-bfef-e268a9fc6563",
   "metadata": {},
   "source": [
    "2. Finding $ \\Delta(E_1 - E_0) $ as mentioned before,\n",
    "$$ ln \\left(G(t)/G(t+a)\\right) \\longrightarrow (E_1 - E_0)a $$"
   ]
  },
  {
   "cell_type": "code",
   "execution_count": 15,
   "id": "cea5fa92-8453-48bf-8336-91ff59d205bc",
   "metadata": {
    "tags": []
   },
   "outputs": [
    {
     "name": "stdout",
     "output_type": "stream",
     "text": [
      "Time elapsed: 40.688790798187256 s\n"
     ]
    }
   ],
   "source": [
    "d_osc2 = DiscHarmonicOsc(boundaries=[-4, 4], N=30, m=1, k=1)\n",
    "\n",
    "start = time.time()\n",
    "avg_G = maMC_integrate(d_osc2.G_ma, d_osc2, eps, N_cor, 2*N_cf, fixedEnds=False, n=8)\n",
    "end = time.time()\n",
    "print(\"Time elapsed: {} s\".format(end-start))\n",
    "\n",
    "avg_dEm = d_osc2.make1E(avg_G)"
   ]
  },
  {
   "cell_type": "code",
   "execution_count": 16,
   "id": "5e10c2b0-33b2-4e71-a731-5a2a128a7e8b",
   "metadata": {},
   "outputs": [
    {
     "data": {
      "image/png": "[encoded data removed]",
      "text/plain": [
       "<Figure size 576x576 with 1 Axes>"
      ]
     },
     "metadata": {
      "needs_background": "light"
     },
     "output_type": "display_data"
    }
   ],
   "source": [
    "fig4,ax4 = plt.subplots(figsize=(8,8))\n",
    "nspace = np.linspace(0, d_osc2.a*(d_osc2.N), d_osc2.N-2) #0, np.ceil((d_osc2.N-2)/d_osc2.a),(d_osc2.N-2))\n",
    "ax4.scatter(nspace, avg_dEm, label=\"Monte Carlo (Metropolis) dE[t]\", color='black', marker=\"^\",s=2**6)\n",
    "ax4.plot(nspace,len(nspace)*[e_osc1.HO_E(1)-e_osc1.HO_E(0)], label=\"Exact dE(t)\")\n",
    "ax4.legend(fontsize=16)\n",
    "ax4.set_xlabel(\"t\", fontsize=16)\n",
    "\n",
    "plt.show()"
   ]
  },
  {
   "cell_type": "markdown",
   "id": "43b695ec-88b6-4610-9dee-8e56e800fb79",
   "metadata": {},
   "source": [
    "True to prediction, this is only any good if the time between propogation (n a) is much shorter than the total number of time steps (N a). Note that we have chosen periodic boundary conditions, which is why the plot appears to flip (the log inverts)."
   ]
  },
  {
   "cell_type": "markdown",
   "id": "856d6187-9a73-41ee-8060-09cfaf096de6",
   "metadata": {},
   "source": [
    "### Statistical Errors (skip)"
   ]
  },
  {
   "cell_type": "markdown",
   "id": "fa67ab55-da5e-4ce9-b2db-f365418eabf9",
   "metadata": {},
   "source": [
    "There are always statistical errors that vanish only in the limit where infinitely many configurations are employed: $ N_{cf} \\rightarrow \\infty $. The crude way to get the statistical uncertainty on our expectation value is to run the calculation many times, and deduce the uncertainty from those trials. The main source of computational expense comes from the generation of new random numbers.\n",
    "\n",
    "This is where the bootstrap procedure comes in. Given $ N_{cf} $ measurements of an expectation value $ \\bar{E} $, we can construct a \"bootstrap copy\" of the ensemble by selectring frandom $ \\bar{E} ^ \\alpha $'s at random from the original ensemble taking $ N_{cf} $ random samples from our $ N_{cf} $ paths: the bootstrap copy is allowed to contain duplicates. This new ensemble can be averaged to obtain a new estimate for $ \\bar{E} $. By repeating this procedure many times, we can generate a distribution of $ \\bar{E} $'s with the same distribution of that generated by the original Monte Carlo method!\n",
    "\n",
    "\n",
    "Missing: Section on binning\n",
    "\n",
    "Missing: code realization"
   ]
  },
  {
   "cell_type": "markdown",
   "id": "0170cade-ffd2-4e30-9798-712849fa362f",
   "metadata": {},
   "source": [
    "## Field theory on a Lattice"
   ]
  },
  {
   "cell_type": "markdown",
   "id": "c0c44306-b83c-43ae-8e07-08b644ad4264",
   "metadata": {},
   "source": [
    "From quantum mechanics to field theory, the analogous quantity of interest turns from $ x(t) \\longrightarrow $ to fields $ \\phi(x) $ or $ A_u(x) $ where x now represents the four position $ x = (t, \\vec{x}) $. The analogy to the QM ground state is the vacuum state $ \\ket{0} $: the analogous excited states created by $ \\phi^{m} \\ket{0} $ with $ m \\in N $, and they now correspond to $ r $ particles.\n",
    "\n",
    "In the lattice approximation, both space and time are discrete. The nodes, or **sites**, of the grid are separated by lattice spacing a, with total side length L. The lines which join sites along basis vectors are called **links**. The quantum field can be specified by its values at the grid sites"
   ]
  },
  {
   "cell_type": "markdown",
   "id": "a2b3ada2-b4b7-4097-96f5-09a19b5a4c85",
   "metadata": {},
   "source": [
    "<!-- ![alt](FieldOnALattice_1.png) | ![alt](LatticeVocab.png) -->\n",
    "\n",
    "<table>\n",
    "    <td> <img src=\"LatticeVocab.png\" alt=\"Drawing\" style=\"width: 250px;\"/> </td>\n",
    "</table>"
   ]
  },
  {
   "cell_type": "markdown",
   "id": "4c70b089-6e34-4ffd-a6e8-ea344e1544c0",
   "metadata": {},
   "source": [
    "A field configuration is described by the set of its values on grid sites $ \\phi(x_j), \\forall \\ x_j \\in grid $. The path integral generalizes as \n",
    "\n",
    "$$ \\left<\\Gamma[\\phi]\\right> \\equiv \\frac{1}{Z} \\int e^{-S[\\phi]} \\Gamma[\\phi] \\ \\prod_{x_j \\in grid} d\\phi(x_j) $$\n",
    "\n",
    "where $ Z $ is the normalization \n",
    "\n",
    "$$ \\int e^{-S[\\phi]} \\prod_{x_j \\in grid} d\\phi(x_j) $$\n",
    "\n",
    "We will get to the meaning of $ S[\\phi] $ soon. With this formulism, we study excitations of the field theory with operators like\n",
    "\n",
    "$$ \\Gamma(t) \\equiv \\frac{1}{\\sqrt{N}} \\sum_{\\vec{x}_j} \\phi(\\vec{x}_j,t) $$\n",
    "\n",
    "The sum over $ N $ spatial $ \\vec{x}_j $'s enforces zero three-momentum (?). The analagous excited states, being linked to particle creation, are actually the energies of the particles themselves: our analogy continues\n",
    "\n",
    "$$ \\left<\\Gamma(t)\\Gamma(0)\\right> \\longrightarrow ^{t large} \\left| \\bramket{0}{\\Gamma(0)}{\\phi: \\vec{p} = \\vec{0}} \\right| ^2 e^{-m_\\phi t} $$\n",
    "\n",
    "This is a $ \\phi $ 1-particle state with 0 three-momentum and mass $ m_\\phi $."
   ]
  },
  {
   "cell_type": "markdown",
   "id": "c47b23f7-905d-46fd-ab4e-0433ee8d23d7",
   "metadata": {},
   "source": [
    "### Coarse discretization of lattices"
   ]
  },
  {
   "cell_type": "markdown",
   "id": "e0da3bce-4f22-4c97-83f0-c3c69a85b645",
   "metadata": {},
   "source": [
    "Early enthusiasm for computational approaches to QCD where cooled by sobering estimates of the computational expense of numerically evaluating path integrals. Today, these problems have been impressively (but not absolutely mitigated). One reason is obviously the exponential increase in computational power. The other is actually... idk how to condense\n",
    "\n",
    "$$ cost \\approx \\left(\\frac{L}{a}\\right)^4 \\frac{1}{a} \\frac{1}{m^2_\\pi a} $$"
   ]
  },
  {
   "cell_type": "markdown",
   "id": "7a320a8e-ebc2-4c26-aa65-4a6c8dcb0a63",
   "metadata": {},
   "source": [
    "In field theory, the field-momentum is a little more abract, namely $ \\left(\\partial_\\mu \\phi \\right)^2 \\neq \\partial^2_\\mu \\phi $. We need an expression for the RHS of the previous equation: try\n",
    "\n",
    "$$ \\frac{\\partial\\phi(x)}{\\partial x} = \\frac{1}{a} \\left(\\phi_{x} - \\phi_{x-a} \\right) + \\vartheta(a) $$\n",
    "$$ \\frac{\\partial^2 \\phi(x)}{\\partial x^2} = \\frac{1}{a^2} \\left[\\left(\\phi(x+a) - \\phi(x)\\right) - \\left(\\phi(x) - \\phi(x-a)\\right) \\right] + \\vartheta(a^2) = \\frac{1}{a^2} \\left[\\phi(x-a) + \\phi(x+a) - 2\\phi(x)\\right] + \\vartheta(a^2) $$\n",
    "\n",
    "There is one better, though I offer no explanation. Defining the previous quantity as\n",
    "\n",
    "$$ \\Delta^{(2)}_x \\phi(x) = \\frac{1}{a^2} \\left[\\phi(x-a) + \\phi(x+a) - 2\\phi(x)\\right] $$\n",
    "\n",
    "we will be using\n",
    "\n",
    "$$ \\frac{\\partial^2 \\phi(x_j)}{\\partial x^2} \\equiv \\Delta^{(2)}_{x_j} \\phi(x_j) - \\frac{a^2}{12} (\\Delta^{(2)}_{x_j} \\phi(x))^2 \\phi(x_j) + \\vartheta(a^4) $$\n",
    "\n",
    "going forward. This is claimed to be accurate to a few percent even when acting on structures in $ \\phi(x) $ that are as small as 4-5 lattice spacings across [?]. The naive expectation is that investigating hadrons will require lattice spacings of only ~.2 of their diameter. However, consideration must be given to the shortest wavelengths we are able to model on a lattice spaced like that. \n",
    "\n",
    "The minimum oscillation we are able to model has wavelength $ \\lambda_{min} = 2a $--the oscillation finishes at an adjacent site. This means that gluons and quarks with momenta $ p = 2\\pi/\\lambda $ larger than $ 2\\pi/\\lambda_{min} = \\pi/a $ are excluded from our calculations, acting as a filter or an ultraviolet cutoff. For noisy nonlinear interacting quantum field theories, ultraviolet modes strongly affect lower energy states. In lattice field theory lingo, these extra terms are called **tadpole contributions**.\n",
    "\n",
    "Luckily, smart people have figured out how to mimic the effect on lower energy states. It's done by changing, or 'renormalizing', the parameters in the discretized theory and by adding new local interactions. As an example, the discretized kinetic Lagrangian for an interacting scalar theory is\n",
    "\n",
    "$$ \\sum_\\mu \\frac{1}{2} \\phi^\\dagger \\partial_{\\mu^2} \\phi \\longrightarrow \\sum_\\mu \\frac{1}{2} \\left( \\phi^\\dagger \\Delta^{(2)}_x \\phi(x) \\phi + a^2 c (\\phi^\\dagger \\Delta^{(2)}_x \\phi(x))^2 \\right) $$\n",
    "\n",
    "where c is a parameter with two parts: $ \\frac{-1}{12} $ from our numerical derivative, and an additional renormalization due to cutoff. The later is typically context dependent and must be computed using QFT. Since QCD is perturbative at high energies, we can write $c$ for it as a function of the running strong coupling\n",
    "\n",
    "$$ c = \\frac{-1}{12} + c_1 \\alpha_s(\\pi/a) + c_2 \\alpha^2_s(\\pi/a) \\ + \\ ... $$\n",
    "\n",
    "According to Lepage (2005), this perturbative approach works for lattice spacings smaller than 0.05-0.1 fm.\n"
   ]
  },
  {
   "cell_type": "markdown",
   "id": "37158829-9819-4395-b85e-2be4b20c1a2a",
   "metadata": {
    "tags": []
   },
   "source": [
    "### A test of the new action"
   ]
  },
  {
   "cell_type": "code",
   "execution_count": 17,
   "id": "04456a65-46ec-45cc-a836-efd7abe2d463",
   "metadata": {},
   "outputs": [],
   "source": [
    "# Returns second derivative in the discrete approximation (old)\n",
    "def Delta(self, x, i):\n",
    "    return (1/self.a**2) * (x[(i+1)%self.N] - 2*x[i] + x[(i-1)%self.N])\n",
    "\n",
    "# Return the \"improved\" action\n",
    "def improvedS(self,x):\n",
    "    KE,PE = 0.0, 0.0\n",
    "    Delt = np.zeros(len(x))\n",
    "    Deltasq = np.zeros(len(x))\n",
    "\n",
    "    for i in range(len(x)-1):\n",
    "        Delt[i] = self.Delta(x,i)\n",
    "        \n",
    "    for i in range(len(x)-1):\n",
    "        Deltasq[i] = self.Delta(Delt, i)\n",
    "        KE += self.a * (self.m/2 * x[i]*(Delt[i] - self.a**2 * Deltasq[i]/12 ))\n",
    "        PE += self.a**2 * self.harmonicV(x[i])\n",
    "\n",
    "    return (-KE+PE)\n",
    "\n",
    "# Returns Norm*e^(-S[x])\n",
    "def improvedExpS(self,*args):\n",
    "        x = list(args)\n",
    "        xi = args[-1]\n",
    "        x.insert(0,xi)\n",
    "        # print(x)\n",
    "    \n",
    "        return self.Norm*np.exp(-self.improvedS(x))\n",
    "    \n",
    "setattr(DiscHarmonicOsc, \"improvedS\", improvedS)\n",
    "setattr(DiscHarmonicOsc, \"improvedExpS\", improvedExpS)\n",
    "setattr(DiscHarmonicOsc, \"Delta\", Delta)"
   ]
  },
  {
   "cell_type": "code",
   "execution_count": 18,
   "id": "9d498890-d7ed-4a3c-ab5a-56e9035420e9",
   "metadata": {},
   "outputs": [
    {
     "name": "stdout",
     "output_type": "stream",
     "text": [
      "Time elapsed: 39.13310480117798 s\n"
     ]
    }
   ],
   "source": [
    "d_osc3 = DiscHarmonicOsc(boundaries=[-4, 4], N=8, m=1, k=1)\n",
    "\n",
    "mcResultv2 = np.zeros_like(xGrid)\n",
    "\n",
    "start = time.time()\n",
    "for i,xi in enumerate(xGrid):\n",
    "    mcResultv2[i] = mc_integrate(d_osc3.improvedExpS, bounds=(d_osc3.N-2)*[d_osc3.bdd], N=d_osc3.N, N_cf=int(1e5), fixedEnds=True, x0=xi)\n",
    "    \n",
    "end = time.time()\n",
    "print(\"Time elapsed: {} s\".format(end-start))"
   ]
  },
  {
   "cell_type": "code",
   "execution_count": 19,
   "id": "f18f6a10-8ba5-49dd-a316-577415cd18f5",
   "metadata": {},
   "outputs": [
    {
     "data": {
      "image/png": "[encoded data removed]",
      "text/plain": [
       "<Figure size 576x576 with 1 Axes>"
      ]
     },
     "metadata": {
      "needs_background": "light"
     },
     "output_type": "display_data"
    }
   ],
   "source": [
    "mcGS0v2, mcE0v2 = d_osc3.makeGS(xGrid, mcResultv2)\n",
    "\n",
    "fig5,ax5 = plt.subplots(figsize=(8,8))\n",
    "ax5.scatter(xGrid,mcGS0v2,label=\"Monte Carlo GS v2, E0 = {:.4f}\".format(mcE0v2), color='orange', marker=\"v\",s=2**6)\n",
    "ax5.scatter(xGrid,mcGS0,label=\"Monte Carlo GS, E0 = {:.4f}\".format(mcE0), color='black', marker=\"^\",s=2**6)\n",
    "ax5.scatter(xGrid,qGS0,label=\"Discretized GS, E0 = {:.4f}\".format(qE0), color='red')\n",
    "ax5.plot(xGrid,e_osc1.HO_GS(xGrid),label=\"Exact GS, E0 = {:.2f}\".format(e_osc1.HO_E(0)))\n",
    "ax5.legend(fontsize=16)\n",
    "ax5.set_xlabel(\"x\", fontsize=16)\n",
    "ax5.set_ylabel(r\"$\\psi$\", fontsize=16)\n",
    "plt.show()"
   ]
  },
  {
   "cell_type": "markdown",
   "id": "e4604e48-fa01-4f87-9212-7cb8010f046b",
   "metadata": {},
   "source": [
    "As we can see, there seems to be some kind of mistake."
   ]
  },
  {
   "cell_type": "markdown",
   "id": "7ae8336f-eee9-4def-8cc5-aa36853bf3a2",
   "metadata": {},
   "source": [
    "## QCD on a Lattice"
   ]
  },
  {
   "cell_type": "markdown",
   "id": "7d163632-6d49-4be3-80ad-928edd5d0e64",
   "metadata": {},
   "source": [
    "### Building a gauge invariant lattice theory"
   ]
  },
  {
   "cell_type": "markdown",
   "id": "5b79e556-87da-4bf8-9062-5fe908955386",
   "metadata": {},
   "source": [
    "The continuum action in QCD is given by\n",
    "\n",
    "$$ S = \\int d^4 x \\frac{1}{2} \\sum_{\\mu,\\nu} F^2_{\\mu \\nu} (x) $$\n",
    "\n",
    "where x is the four position and \n",
    "\n",
    "$$ F_{\\mu \\nu} = \\partial_\\mu A_\\nu - \\partial_\\nu A_\\mu + i g [A_\\mu, A_\\nu] $$\n",
    "\n",
    "is the field tensor on field $ A $ with coupling strength $ g $. QCD is an approximate SU(3) gauge theory, invariant under transformations\n",
    "\n",
    "$$ F_{\\mu \\nu} \\longrightarrow \\Omega(x) F_{\\mu \\nu} \\Omega(x) $$\n",
    "\n",
    "The theory on a lattice departs from the work so far in that the field is **not specified on the lattice sites**. Rather, it is specified on the links. The *link variable* which specifies the link joining site $x$ to $x+a\\hat{\\mu}$ is\n",
    "\n",
    "$$ U_\\mu (x) \\equiv P \\ exp(-i\\int^{x+a\\hat{\\mu}}_x g A \\cdot dy) $$\n",
    "\n",
    "The $ U_\\mu $'s are gauge invariant and tranform via \n",
    "\n",
    "$$ U_\\mu (x) \\longrightarrow \\Omega(x) U_\\mu (x) \\Omega(x+a\\hat{\\mu}) $$\n",
    "\n",
    "Pictorally, we can see the this matrix's conjugate represents a link in the opposite direction (the sign of the integral is reverse),"
   ]
  },
  {
   "cell_type": "markdown",
   "id": "11263376-1f38-4f52-91a2-325e808bccc1",
   "metadata": {},
   "source": [
    "<table>\n",
    "    <td> <img src=\"Link1.png\" alt=\"Drawing\" style=\"width: 250px;\"/> </td><td> <img src=\"Link2.png\" alt=\"Drawing\" style=\"width: 250px;\"/> </td>\n",
    "</table>"
   ]
  },
  {
   "cell_type": "markdown",
   "id": "10ed37ed-fb3f-4d79-a466-06dc3be9c43d",
   "metadata": {},
   "source": [
    "#### Important definition: The Wilson Loop function"
   ]
  },
  {
   "cell_type": "markdown",
   "id": "c1ad8c88-b14a-4a71-a967-036c6c991280",
   "metadata": {},
   "source": [
    "For any closed path $ C $ built of links on the lattice we can define the Wilson loop function,\n",
    "\n",
    "$$ W(C) \\equiv \\frac{1}{3} Tr P e^{-i \\oint_C g A \\cdot dx } $$\n",
    "\n",
    "This can be computed from the path ordered product of $ U_\\mu $'s and $ U^\\dagger_\\mu$'s. The following loop gives the intuition, combined with previous definitions, that\n",
    "\n",
    "$$ W(C) \\equiv \\frac{1}{3} Tr (U_\\mu(x)U_\\nu(x+a\\hat{\\mu})...U^\\dagger_\\nu(x)) $$"
   ]
  },
  {
   "cell_type": "markdown",
   "id": "51d0b9e8-9156-4288-accd-7bc3fb76bdb7",
   "metadata": {},
   "source": [
    "<table>\n",
    "    <td> <img src=\"Wilson.png\" alt=\"Drawing\" style=\"width: 250px;\"/> </td>\n",
    "</table>"
   ]
  },
  {
   "cell_type": "markdown",
   "id": "a1cc5bb5-11d1-4a28-8ce2-5b9318b7e8da",
   "metadata": {},
   "source": [
    "The simplest Wilson loop function is that of a $ \\mu \\times \\nu $ square: this is called the *plaquette operator*. For a field slowly varying over nearby lattice links, it can be shown that\n",
    "\n",
    "$$ P_{\\mu\\nu} \\approx \\frac{1}{3} Re \\ Tr \\left[ 1 - i\\left(a^2 F_{\\mu\\nu}(x_0) + \\frac{a^4}{24}(D^2_\\mu + D^2_\\nu)F_{\\mu\\nu}|_{x_0} \\right) - \\frac{1}{2}\\left(a^2 F_{\\mu\\nu}(x_0) + \\frac{a^4}{24}(D^2_\\mu + D^2_\\nu)F_{\\mu\\nu}|_{x_0} \\right)^2 \\right] $$\n",
    "\n",
    "Making the connection with covariant derivatives $ D $ and the action, we find the traditional *Wilson action* for gluons\n",
    "\n",
    "$$\n",
    "    S_{Wil} = \\beta \\sum_{x,\\mu > \\nu} (1 - P_{\\mu\\nu}(x)) \n",
    "            = \\int d^4 x \\sum_{\\mu,\\nu} \\left[ \\frac{1}{2} Tr F^2_{\\mu\\nu} + \\frac{a^2}{24} Tr F_{\\mu\\nu}(D^2_\\mu + D^2_\\nu)F_{\\mu\\nu} + ... \\right]\n",
    "  $$\n",
    "  \n",
    "which, we see is equivalent to the classical action to $ \\vartheta(a^2) $. However, we can do better. We can actually cancel the term second order in $a$ by adding in a couple *rectangle operators*, another special case of the Wilson operator, which have the expansion\n",
    "\n",
    "<table>\n",
    "    <td> <img src=\"Rectangle.png\" alt=\"Drawing\" style=\"width: 250px;\"/> </td>\n",
    "</table>\n",
    "$$ R_{\\mu\\nu} = 1 - \\frac{4}{6} a^4 Tr (gF_{\\mu\\nu})^2 - \\frac{4}{72}a^6 Tr(gF_{\\mu\\nu}(4D^2_\\mu + D^2_\\nu)gF_{\\mu\\nu} - ... $$"
   ]
  },
  {
   "cell_type": "markdown",
   "id": "35cac8c7-589c-40c9-89bb-4f315323d47e",
   "metadata": {},
   "source": [
    "$$ \\longrightarrow S_{Wil} = -\\beta \\sum_{x,\\mu > \\nu} \\frac{5}{3}P_{\\mu\\nu}(x) - \\frac{R_{\\mu\\nu} - R_{\\nu\\mu}}{12} + const. \n",
    "            = \\int d^4 x \\sum_{\\mu,\\nu} \\frac{1}{2} Tr F^2_{\\mu\\nu} + \\vartheta(a^4) $$"
   ]
  },
  {
   "cell_type": "markdown",
   "id": "b5d67e83-95cf-4532-8c3a-001a86c62605",
   "metadata": {},
   "source": [
    "### Quantum Gluons: Quantum effects in perturbation theory"
   ]
  },
  {
   "cell_type": "markdown",
   "id": "c2e3b7bd-7634-42a1-942f-9a160b7c717a",
   "metadata": {},
   "source": [
    "Similar to the improved path integral action covered earlier, there are ways to mitigate the higher order contributions to the action for quantum gluons. These likewise can be realized as a perturbative terms. I present without proof that with\n",
    "\n",
    "<table>\n",
    "    <td> <img src=\"Circle.png\" alt=\"Drawing\" style=\"width: 200px;\"/> </td>\n",
    "</table>\n",
    "\n",
    "$$ S_{Wil} = -\\beta \\sum_{x,\\mu > \\nu} \\frac{5}{3}P_{\\mu\\nu}(x) - r_g\\frac{R_{\\mu\\nu} - R_{\\nu\\mu}}{12u_0^6} + c_g \\beta  \\sum_{x,\\mu > \\nu > \\sigma} \\frac{C_{\\mu\\nu\\sigma}}{u_0^6} $$\n",
    "\n",
    "with $ r_g = 1 + .48 \\alpha_s(\\pi/a) $, $ c_g = .055 \\alpha_s (\\pi/a) $, is exact to order $ \\vartheta(a^2\\alpha_s^2, a^4) $."
   ]
  },
  {
   "cell_type": "markdown",
   "id": "2c68e5ae-e7aa-4874-b2e5-77f42c8f5b52",
   "metadata": {},
   "source": [
    "### Monte Carlo Evaluation of Gluonic Path Integrals"
   ]
  },
  {
   "cell_type": "markdown",
   "id": "a57d722c-e645-40b0-82ba-e38c35be4c10",
   "metadata": {},
   "source": [
    "The main difference in methodology in the Gluonic case:\n",
    "1. The links are now matrices. To update them, they have to be multiplied by another matrix. So, \n",
    "\n",
    "$$ U_\\mu \\longrightarrow M U_\\mu, \\ \\ M \\approx 1 + \\epsilon H $$\n",
    "\n",
    "with $ H $ a hermitean matrix with entries & $ \\epsilon $ less than unity.\n",
    "\n",
    "2. The Metropolis algorithm now needs to thermalize links with their surroundings, rather than with the whole lattice. The thermalization step now takes place many more times."
   ]
  },
  {
   "cell_type": "markdown",
   "id": "3b85cd7c-3405-4ef9-89ea-bd28c5e5cff7",
   "metadata": {},
   "source": [
    "### A first application of Lattice QCD"
   ]
  },
  {
   "cell_type": "markdown",
   "id": "577f7f5d-0b7a-431b-8e43-2b455497c87c",
   "metadata": {},
   "source": [
    "was going to be to calculate the potential energy between a static quark and static antiquark, but the code is hard and I don't have time. But in this case, propogation is described by the Green's function described by\n",
    "\n",
    "$$ (D_t - \\frac{\\vec{D}^2}{2M}) G(x) = \\delta^4(x) $$\n",
    "\n",
    "where $ D $ is again the covariant derivative $ D_\\mu = \\partial_\\mu -igA_\\mu(x) $. In the heavy quark limit,\n",
    "\n",
    "$$ G_\\infty(\\vec{x},t) = \\left[Pe^{-i\\oint^t_0 gA_0 (\\vec{x},t)dt}\\right]^\\dagger \\delta(\\vec{x}) $$\n",
    "\n",
    "On the lattice, this becomes\n",
    "\n",
    "$$ G_\\infty(\\vec{x},t) = U^\\dagger_t(\\vec x, t-a) U^\\dagger_t(\\vec x, t-2a) ... U^\\dagger_t(\\vec x, 0) $$\n",
    "\n",
    "Propogation of the static antiquark is described by $ G^\\dagger_\\infty(\\vec{x},t) $. For a quark-antiquark pair a distance $ r $ apart, the functional whose low-energy expectation value we now must obtain is\n",
    "\n",
    "$$ \\left<\\Gamma(t)\\right> \\approx \\bramket{0}{\\Gamma(t)}{0} = W(r,t) $$\n",
    "<table>\n",
    "    <td> <img src=\"q_antiq_gamma.png\" alt=\"Drawing\" style=\"width: 250px;\"/> </td>\n",
    "</table>\n",
    "$$ \\longrightarrow const \\ e^{V(r)t} $$\n",
    "\n",
    "for large t. As before in this limit,\n",
    "\n",
    "$$ W(r,t)/W(r,t+a) \\longrightarrow aV(r) $$"
   ]
  },
  {
   "cell_type": "markdown",
   "id": "ee3150b5-3194-478c-a230-7cdff61932ac",
   "metadata": {},
   "source": [
    "#### Another computational speedup: Smeared links"
   ]
  },
  {
   "cell_type": "code",
   "execution_count": null,
   "id": "b6077e1b-4f2f-469b-96e5-b5e52dfcf534",
   "metadata": {},
   "outputs": [],
   "source": []
  },
  {
   "cell_type": "markdown",
   "id": "f12d8cc4-2586-4402-ac55-7c3a9bebf14d",
   "metadata": {},
   "source": [
    "## References"
   ]
  },
  {
   "cell_type": "markdown",
   "id": "09f6ccca-2bf3-442d-b0f6-7bbcbf5c57df",
   "metadata": {},
   "source": [
    "[1] Lepage, G. Peter. \"Lattice QCD for Novices\", 2005, Cornell University\n",
    "\n",
    "[2] Garcia, Erick. \"Path Integral Formulation of Quantum Mechanics\", 2021, PSU"
   ]
  }
 ],
 "metadata": {
  "kernelspec": {
   "display_name": "Python 3",
   "language": "python",
   "name": "python3"
  },
  "language_info": {
   "codemirror_mode": {
    "name": "ipython",
    "version": 3
   },
   "file_extension": ".py",
   "mimetype": "text/x-python",
   "name": "python",
   "nbconvert_exporter": "python",
   "pygments_lexer": "ipython3",
   "version": "3.6.13"
  },
  "toc-autonumbering": false
 },
 "nbformat": 4,
 "nbformat_minor": 5
}
