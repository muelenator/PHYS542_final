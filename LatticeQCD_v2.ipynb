{
 "cells": [
  {
   "cell_type": "markdown",
   "id": "08fde161-e8c1-41f4-867b-df624f509a60",
   "metadata": {
    "tags": []
   },
   "source": [
    "# Lattice QCD\n",
    "Last revised: 4-22-2022 by Richard Mueller [rjm6826@psu.edu]\n",
    "\n",
    "An introduction to lattice QCD based on 'Lattice QCD for Novices' by Peter Lepage.\n",
    "\n",
    "Revisions:\n",
    "* v2: Tests if removing the Nth integral improves results.\n",
    "\n",
    "TODO:\n",
    "* Path integrals \n",
    "    * paths must end/start at the same points\n",
    "    * Approximating p_{j+1} as p_j\n",
    "* Discretized path integrals\n",
    "    * fix e^-HT in the propogators\n",
    "* All integral methods through monte carlo -- record the time it takes to perform each\n",
    "* Applications #2 section doesn't make any sense\n",
    "* Need to plot comparisons with HO states and energies. Take sqrt of all integration outputs\n",
    "* what is the diamter of a typical hadron?"
   ]
  },
  {
   "cell_type": "markdown",
   "id": "e3e14096-a437-4ea8-8a47-34c27270d8d9",
   "metadata": {},
   "source": [
    "$$\\newcommand{\\bra}[1]{\\langle{#1}|}$$\n",
    "$$\\newcommand{\\ket}[1]{|{#1}\\rangle}$$\n",
    "$$\\newcommand{\\braket}[2]{\\left\\langle{#1}\\middle|{#2}\\right\\rangle}$$\n",
    "$$\\newcommand{\\bramket}[3]{\\left\\langle{#1}|{#2}|{#3}\\right\\rangle}$$"
   ]
  },
  {
   "cell_type": "code",
   "execution_count": 1,
   "id": "3f57f86a-b79a-471c-b0a2-10fe564b8044",
   "metadata": {},
   "outputs": [],
   "source": [
    "import numpy as np\n",
    "import scipy.integrate as integrate\n",
    "import matplotlib.pyplot as plt\n",
    "import time"
   ]
  },
  {
   "cell_type": "markdown",
   "id": "a5b0bef0-0e55-4c3a-a378-4d39b7057736",
   "metadata": {},
   "source": [
    "## The Path Integral\n",
    "\n",
    "Let's look at the Schodinger equation in the time independent case. Time evolution is governed by\n",
    "\n",
    "$$ i\\hbar\\partial_{t}\\ket{\\psi(t)} = H\\ket{\\psi(t)} \\Longrightarrow \\ket{\\psi(t)} = U(t,t')\\ket{\\psi(t)} $$\n",
    "$$ U(t,t') = e^{-iH(t-t')/\\hbar} $$\n",
    "\n",
    "provided that $ t > t' $. $ U(t,t') $ is called the time evolution operator: acting on a position $ \\ket{x} $ with it will tell us where a wave at position x at time t will wind up at time t'. The matrix element \n",
    "\n",
    "$$ \\bramket{x}{U(t,t')}{x'} = \\bramket{x}{e^{-iH(t-t')/\\hbar}}{x'} \\equiv U(x,t;x',t') $$\n",
    "\n",
    "then tells us the expected value of the propogated wave at x',t'. This function lends $ U(x,t;x',t') $ its name of *propogator*. **Complete knowledge of the propogator, given an initial state, provides complete information about the wave dynamics** (or field dynamics soon... hopefully):\n",
    "\n",
    "$$\n",
    "\\begin{align}\n",
    "    \\psi(x,t) = \\bramket{x}{U(t,t')}{\\psi(t')} &= \\int dx' \\bramket{x}{U(t,t')}{x'} \\braket{x'}{\\psi(t')} \\\\\n",
    "                                               &= \\int dx' \\bramket{x}{U(t,t')}{x'} \\psi(x',t') \\\\\n",
    "                                               &= \\int dx' U(x,t;x',t') \\psi(x',t')\n",
    "\\end{align}\n",
    "$$\n",
    "\n",
    "It can be shown that the propogator may be partitioned into $n$ time steps $ \\delta t $ such that [?]\n",
    "\n",
    "$$\n",
    "U(x,t;x',t') = \\int \\prod_{j=1}^{n} \\frac{dp_j}{2\\pi\\hbar} \\prod_{j=1}^{n-1} dx_j e^{-i\\delta{t}/\\hbar \\sum_{j=0}^{n-1}\\left[T(p_{j+1}) + V(x_j) - \\frac{p_{j+1} (x_{j+1} - x_j)}{\\delta{t}} \\right] }\n",
    "$$\n",
    "\n",
    "The $ \\frac{(x_{j+1} - x_j)}{\\delta{t}} $ can be identified as the discritized time derivative of $x_{j}$, $\\dot{x_{j}}$. Hence the exponent can be identified with the discretized action,\n",
    "\n",
    "$$ \\begin{align}\n",
    "S = -\\delta{t} \\sum_{j=0}^{n-1} \\left[T(p_{j+1}) + V(x_j) - \\frac{p_{j+1} (x_{j+1} - x_j)}{\\delta{t}} \\right] &= -\\delta{t} \\sum_{j=0}^{n-1}\\left[T(p(t_j)) + V(x(t_j)) - p(t_j)\\dot{x}(t_j)\\right] \\\\\n",
    "                                                                                     &= \\delta{t} \\sum_{j=0}^{n-1}L(x_j,p_j,t') \n",
    "\\end{align}\n",
    "$$\n",
    "\n",
    "In the continuum limit ($ \\delta{t} \\rightarrow 0 $ ) we are able to eliminate the integral of $p$ (gaussian):\n",
    "\n",
    "$$\n",
    "U(x,t;x',t') = \\int D[x] \\ e^{i/\\hbar S[x]} = \\int D[x] \\ exp\\left[i/\\hbar \\sum_{j=0}^{n-1}L(x_j,\\dot{x}_j,t') \\right]\n",
    "$$\n",
    "\n",
    "where $ D[x] = \\prod_{j=1}^{n-1} dx_j $. Our goal now is to find an efficient way to compute this quantity."
   ]
  },
  {
   "cell_type": "markdown",
   "id": "9f7b8058-11aa-4a14-9ed1-c6ab7adda6d7",
   "metadata": {
    "tags": []
   },
   "source": [
    "## The Discritized Path Integral\n"
   ]
  },
  {
   "cell_type": "markdown",
   "id": "ec9b6778-c5d0-423d-ba79-b723a3c677d9",
   "metadata": {},
   "source": [
    "### Representing an arbitrary particle path\n",
    "A general path $ x(t) $ from $x_i$ to $x_f$ can be arbitrarily long an complex. However, the contribution to the propogator from these paths are actually supressed! We can see this by exploring the action in the *finite difference approximation*.\n",
    "\n",
    "When given a path (or, in general, any function) $x(t)$, we can break it into discretized time steps... Maybe just use the explanation from the path integral derivation?\n",
    "\n",
    "We approximate the path by specifying $x(t)$ only at the nodes, or sites, of a discretized time line:\n",
    "\n",
    "$$ t_n = t_i + a*n $$\n",
    "\n",
    "for $n=0,1,2,...,N$ and where $a$ is the *grid spacing*. The path is represented as a vector of numbers,\n",
    "\n",
    "$$ x = \\left[ x(t_0),x(t_1),...,x(t_N)\\right] $$\n",
    "\n",
    "So, the integral over all paths becomes the integral over all possible values of $x$ at each node:\n",
    "\n",
    "$$ \\int D[x(t)] \\longrightarrow A\\int_{-\\infty}^{\\infty} dx_1 dx_2 ... dx_{N-1} $$\n",
    "\n",
    "Note, the endpoint nodes $x_0,x_N$ are not integrated over, since they are held fixed/defined for all paths. $A$ is the integration normalization factor, which will be useful in the examples which follow. In one dimension, it is $ A = \\left( \\frac{m}{2\\pi a} \\right)^{N/2} $ [?].\n",
    "\n",
    "#### Evaluation of the action: The finite difference approximation\n",
    "With these tools, our focus becomes\n",
    "\n",
    "$$ \\bramket{x}{e^{-HT}}{x} \\approx A\\int_{-\\infty}^{\\infty} dx_1 dx_2 ... dx_{N-1} e^{-S_{lat}[x]} $$\n",
    "\n",
    "where $ S_{lat}[x] $ is given by\n",
    "\n",
    "$$ S_{lat}[x] = \\sum_{j=1}^{N-1} \\left(T(x_j) + V(x_j) \\right) = \\sum_{j=0}^{N-1} \\left( \\frac{m}{2a}\\left(x_{j+1} - x_j \\right)^2 + aV(x_j) \\right) $$\n",
    "\n",
    "Note, when the difference between successive time steps is large, the exponential factor contributes less. Hence, paths which vary quickly are supressed in the integration."
   ]
  },
  {
   "cell_type": "markdown",
   "id": "0f6fcbce-78f1-45ba-8c67-8314d4a3efb9",
   "metadata": {},
   "source": [
    "### Application #1: Finding the ground state of a positive valued wavefunction\n",
    "We first turn our interest to those propogators who time evolve for long periods of time $ T = t - t' $: the self propogator is\n",
    "$$ \\bramket{x}{e^{-HT}}{x} = \\sum_{n} \\braket{x}{E_n}e^{-E_n T}\\braket{E_n}{x} $$\n",
    "\n",
    "If T is large enough, only the lowest energy term will significantly contribute:\n",
    "$$ \\bramket{x}{e^{-HT}}{x} \\longrightarrow^{T\\to\\infty} e^{-E_0 T} \\left|\\braket{x}{E_0}\\right|^2 $$\n",
    "\n",
    "Integrating over x provides the ground state energy,\n",
    "$$ \\int dx \\bramket{x}{e^{-HT}}{x}  \\longrightarrow e^{-E_0 T} $$\n",
    "\n",
    "The ground state wavefunction is then determined \n",
    "$$ \\ket{E_0 (x)} = \\braket{x}{E_0} = \\left[e^{E_0 T} \\bramket{x}{e^{-HT}}{x} \\right]^\\frac{1}{2} $$\n",
    "\n",
    "Once we fix T,n, we can calculate\n",
    "* $E_0$ from $ \\int dx \\bramket{x}{e^{-HT}}{x} $\n",
    "* $ \\ket{E_0 (x)} $ from $ \\bramket{x}{e^{-HT}}{x} $"
   ]
  },
  {
   "cell_type": "markdown",
   "id": "ac898ac2-e46f-4a88-94ac-31828fd79fa7",
   "metadata": {},
   "source": [
    "### An example: Ground state of the harmonic oscillator"
   ]
  },
  {
   "cell_type": "markdown",
   "id": "87818c63-f9f5-42e6-8e89-6c4f316c0fe9",
   "metadata": {},
   "source": [
    "Lets keep track of our oscillator properties"
   ]
  },
  {
   "cell_type": "code",
   "execution_count": 2,
   "id": "d6ab2e0e-acba-4e8d-89d3-d1d09c5df5d2",
   "metadata": {},
   "outputs": [],
   "source": [
    "# Let's keep track of our wavefunction properties\n",
    "hbar = 1\n",
    "class oscillator():\n",
    "    def __init__(self, boundaries, N=8, m=1, k=1, **kwargs):\n",
    "        self.bdd = boundaries # extent of the wavefunction\n",
    "        self.N = N # N: time steps\n",
    "        self.m = m # a: oscillator mass\n",
    "        self.k = k # k: oscillator strength\n",
    "\n",
    "        # Grid spacing\n",
    "        if \"a\" in kwargs: self.a = kwargs[\"a\"]\n",
    "        else: self.a = .5\n",
    "\n",
    "        self.A = (self.m/(2*np.pi*self.a))**(self.N/2) # Wave function normalization\n",
    "        \n",
    "    # Return the HO potential\n",
    "    def harmonicV(self,x):\n",
    "        return .5*self.k*x**2"
   ]
  },
  {
   "cell_type": "markdown",
   "id": "1abe31c9-57ea-4b30-92b7-16923f09d626",
   "metadata": {},
   "source": [
    "We'll want to compare our results to the exact solution. Below are some tools for that."
   ]
  },
  {
   "cell_type": "code",
   "execution_count": 3,
   "id": "36a3330a-a12d-41a4-a2a9-79d972ed60f9",
   "metadata": {},
   "outputs": [],
   "source": [
    "class ExactHarmonicOsc(oscillator):\n",
    "    def __init__(self, boundaries, N=8, m=1, k=1, **kwargs):\n",
    "        super().__init__(boundaries, N=8, m=1, k=1, **kwargs)\n",
    "        self.w = np.sqrt(self.k/self.m)\n",
    "\n",
    "    # Return the HO ground state\n",
    "    def HO_GS(self,x):\n",
    "        amp = ((self.m*self.w)/(np.pi*hbar))**(1/4)\n",
    "        return amp*np.exp(-self.m*w*self.x**2 / (2*hbar))\n",
    "\n",
    "    # Return the HO first excited state\n",
    "    def HO_E1(self,x):\n",
    "        amp = ((self.m*self.w)/(np.pi*hbar))**(1/4) * np.sqrt(2*m*w/hbar)*x\n",
    "        return amp*np.exp(-(self.m*self.w)*x**2 / (2*hbar))\n",
    "\n",
    "    # Return the HO energy of the nth state\n",
    "    def HO_E(self,n):\n",
    "        return (n+1/2)*hbar*self.w"
   ]
  },
  {
   "cell_type": "markdown",
   "id": "a3bf68df-f214-4bc1-a1b1-b2d538909e8a",
   "metadata": {},
   "source": [
    "Here are the tools needed for computing the path integral for the harmonic oscillator."
   ]
  },
  {
   "cell_type": "code",
   "execution_count": 4,
   "id": "c1ad79b1-7d99-414e-946b-0630328ad364",
   "metadata": {},
   "outputs": [
    {
     "name": "stdout",
     "output_type": "stream",
     "text": [
      "[1, 2, 3, 4, 5]\n",
      "[1, 2, 3, 4]\n",
      "range(0, 4)\n",
      "5\n"
     ]
    }
   ],
   "source": [
    "l = [1,2,3,4]\n",
    "l.insert(len(l),5)\n",
    "print(l)\n",
    "print(l[:-1])\n",
    "print(range(len(l)-1))\n",
    "print(l[-1])"
   ]
  },
  {
   "cell_type": "code",
   "execution_count": 16,
   "id": "c3d91531-ed8e-43e2-9712-d25dc12daccd",
   "metadata": {},
   "outputs": [],
   "source": [
    "class DiscHarmonicOsc(oscillator):\n",
    "    def __init__(self, boundaries, N=8, m=1, k=1, **kwargs):\n",
    "        super().__init__(boundaries, N=8, m=1, k=1, **kwargs)\n",
    "    \n",
    "    # Return the action\n",
    "    def S(self,x,xi):\n",
    "        KE = self.m/(2*self.a) * (x[0] - xi)**2\n",
    "        PE = self.a * self.harmonicV(xi)\n",
    "                \n",
    "        for i in range(len(x)-1):\n",
    "            KE += self.m/(2*self.a) * (x[i+1] - x[i])**2\n",
    "            PE += self.a * self.harmonicV(x[i])\n",
    "            \n",
    "        KE += self.m/(2*self.a) * (xi - x[-1])**2\n",
    "        PE += self.a * self.harmonicV(x[-1])\n",
    "        \n",
    "        # print(xi, KE+PE)\n",
    "            \n",
    "        return (KE+PE)\n",
    "    \n",
    "    # Returns e^(-S[x])\n",
    "    def expS(self,*args):\n",
    "        x = list(args)[:-1]\n",
    "        xi = args[-1]\n",
    "    \n",
    "        return self.A*np.exp(-self.S(x, xi))\n",
    "    \n",
    "    # def makeGS(self,x):\n",
    "        \n"
   ]
  },
  {
   "cell_type": "markdown",
   "id": "8362addb-9f61-481a-83e7-f3245b4c70c0",
   "metadata": {},
   "source": [
    "We can integrate over the N-2 variables numerically using 'scipy's numerical integration package for vectors."
   ]
  },
  {
   "cell_type": "code",
   "execution_count": 20,
   "id": "dc53053d-5130-4500-bf7f-70be412f2c55",
   "metadata": {},
   "outputs": [
    {
     "ename": "KeyboardInterrupt",
     "evalue": "",
     "output_type": "error",
     "traceback": [
      "\u001b[0;31m---------------------------------------------------------------------------\u001b[0m",
      "\u001b[0;31mKeyboardInterrupt\u001b[0m                         Traceback (most recent call last)",
      "\u001b[0;32m<ipython-input-20-08083e521118>\u001b[0m in \u001b[0;36m<module>\u001b[0;34m\u001b[0m\n\u001b[1;32m      8\u001b[0m \u001b[0mstart\u001b[0m \u001b[0;34m=\u001b[0m \u001b[0mtime\u001b[0m\u001b[0;34m.\u001b[0m\u001b[0mtime\u001b[0m\u001b[0;34m(\u001b[0m\u001b[0;34m)\u001b[0m\u001b[0;34m\u001b[0m\u001b[0;34m\u001b[0m\u001b[0m\n\u001b[1;32m      9\u001b[0m \u001b[0;32mfor\u001b[0m \u001b[0mi\u001b[0m\u001b[0;34m,\u001b[0m\u001b[0mxi\u001b[0m \u001b[0;32min\u001b[0m \u001b[0menumerate\u001b[0m\u001b[0;34m(\u001b[0m\u001b[0mxGrid\u001b[0m\u001b[0;34m)\u001b[0m\u001b[0;34m:\u001b[0m\u001b[0;34m\u001b[0m\u001b[0;34m\u001b[0m\u001b[0m\n\u001b[0;32m---> 10\u001b[0;31m     \u001b[0mquadResult\u001b[0m\u001b[0;34m[\u001b[0m\u001b[0mi\u001b[0m\u001b[0;34m]\u001b[0m \u001b[0;34m=\u001b[0m \u001b[0mintegrate\u001b[0m\u001b[0;34m.\u001b[0m\u001b[0mnquad\u001b[0m\u001b[0;34m(\u001b[0m\u001b[0mfunc\u001b[0m \u001b[0;34m=\u001b[0m \u001b[0md_osc1\u001b[0m\u001b[0;34m.\u001b[0m\u001b[0mexpS\u001b[0m\u001b[0;34m,\u001b[0m \u001b[0mranges\u001b[0m \u001b[0;34m=\u001b[0m \u001b[0;34m(\u001b[0m\u001b[0md_osc1\u001b[0m\u001b[0;34m.\u001b[0m\u001b[0mN\u001b[0m\u001b[0;34m-\u001b[0m\u001b[0;36m2\u001b[0m\u001b[0;34m)\u001b[0m\u001b[0;34m*\u001b[0m\u001b[0;34m[\u001b[0m\u001b[0md_osc1\u001b[0m\u001b[0;34m.\u001b[0m\u001b[0mbdd\u001b[0m\u001b[0;34m]\u001b[0m\u001b[0;34m,\u001b[0m \u001b[0margs\u001b[0m \u001b[0;34m=\u001b[0m \u001b[0;34m(\u001b[0m\u001b[0mxi\u001b[0m\u001b[0;34m,\u001b[0m\u001b[0;34m)\u001b[0m\u001b[0;34m,\u001b[0m \u001b[0mopts\u001b[0m\u001b[0;34m=\u001b[0m\u001b[0;34m{\u001b[0m\u001b[0;34m'points'\u001b[0m\u001b[0;34m:\u001b[0m \u001b[0;34m[\u001b[0m\u001b[0;34m-\u001b[0m\u001b[0;36m2\u001b[0m\u001b[0;34m,\u001b[0m\u001b[0;36m2\u001b[0m\u001b[0;34m]\u001b[0m\u001b[0;34m}\u001b[0m\u001b[0;34m)\u001b[0m \u001b[0;31m#,\u001b[0m\u001b[0;34m\u001b[0m\u001b[0;34m\u001b[0m\u001b[0m\n\u001b[0m\u001b[1;32m     11\u001b[0m                                                                                                                 \u001b[0;31m# 'epsabs': 1e-3, 'epsrel': 1e-1})[0]\u001b[0m\u001b[0;34m\u001b[0m\u001b[0;34m\u001b[0m\u001b[0;34m\u001b[0m\u001b[0m\n\u001b[1;32m     12\u001b[0m     \u001b[0mprint\u001b[0m\u001b[0;34m(\u001b[0m\u001b[0mquadResult\u001b[0m\u001b[0;34m[\u001b[0m\u001b[0mi\u001b[0m\u001b[0;34m]\u001b[0m\u001b[0;34m)\u001b[0m\u001b[0;34m\u001b[0m\u001b[0;34m\u001b[0m\u001b[0m\n",
      "\u001b[0;32m/opt/miniconda3/envs/branch-env/lib/python3.6/site-packages/scipy/integrate/quadpack.py\u001b[0m in \u001b[0;36mnquad\u001b[0;34m(func, ranges, args, opts, full_output)\u001b[0m\n\u001b[1;32m    824\u001b[0m     \u001b[0;32melse\u001b[0m\u001b[0;34m:\u001b[0m\u001b[0;34m\u001b[0m\u001b[0;34m\u001b[0m\u001b[0m\n\u001b[1;32m    825\u001b[0m         \u001b[0mopts\u001b[0m \u001b[0;34m=\u001b[0m \u001b[0;34m[\u001b[0m\u001b[0mopt\u001b[0m \u001b[0;32mif\u001b[0m \u001b[0mcallable\u001b[0m\u001b[0;34m(\u001b[0m\u001b[0mopt\u001b[0m\u001b[0;34m)\u001b[0m \u001b[0;32melse\u001b[0m \u001b[0m_OptFunc\u001b[0m\u001b[0;34m(\u001b[0m\u001b[0mopt\u001b[0m\u001b[0;34m)\u001b[0m \u001b[0;32mfor\u001b[0m \u001b[0mopt\u001b[0m \u001b[0;32min\u001b[0m \u001b[0mopts\u001b[0m\u001b[0;34m]\u001b[0m\u001b[0;34m\u001b[0m\u001b[0;34m\u001b[0m\u001b[0m\n\u001b[0;32m--> 826\u001b[0;31m     \u001b[0;32mreturn\u001b[0m \u001b[0m_NQuad\u001b[0m\u001b[0;34m(\u001b[0m\u001b[0mfunc\u001b[0m\u001b[0;34m,\u001b[0m \u001b[0mranges\u001b[0m\u001b[0;34m,\u001b[0m \u001b[0mopts\u001b[0m\u001b[0;34m,\u001b[0m \u001b[0mfull_output\u001b[0m\u001b[0;34m)\u001b[0m\u001b[0;34m.\u001b[0m\u001b[0mintegrate\u001b[0m\u001b[0;34m(\u001b[0m\u001b[0;34m*\u001b[0m\u001b[0margs\u001b[0m\u001b[0;34m)\u001b[0m\u001b[0;34m\u001b[0m\u001b[0;34m\u001b[0m\u001b[0m\n\u001b[0m\u001b[1;32m    827\u001b[0m \u001b[0;34m\u001b[0m\u001b[0m\n\u001b[1;32m    828\u001b[0m \u001b[0;34m\u001b[0m\u001b[0m\n",
      "\u001b[0;32m/opt/miniconda3/envs/branch-env/lib/python3.6/site-packages/scipy/integrate/quadpack.py\u001b[0m in \u001b[0;36mintegrate\u001b[0;34m(self, *args, **kwargs)\u001b[0m\n\u001b[1;32m    879\u001b[0m             \u001b[0mf\u001b[0m \u001b[0;34m=\u001b[0m \u001b[0mpartial\u001b[0m\u001b[0;34m(\u001b[0m\u001b[0mself\u001b[0m\u001b[0;34m.\u001b[0m\u001b[0mintegrate\u001b[0m\u001b[0;34m,\u001b[0m \u001b[0mdepth\u001b[0m\u001b[0;34m=\u001b[0m\u001b[0mdepth\u001b[0m\u001b[0;34m+\u001b[0m\u001b[0;36m1\u001b[0m\u001b[0;34m)\u001b[0m\u001b[0;34m\u001b[0m\u001b[0;34m\u001b[0m\u001b[0m\n\u001b[1;32m    880\u001b[0m         quad_r = quad(f, low, high, args=args, full_output=self.full_output,\n\u001b[0;32m--> 881\u001b[0;31m                       **opt)\n\u001b[0m\u001b[1;32m    882\u001b[0m         \u001b[0mvalue\u001b[0m \u001b[0;34m=\u001b[0m \u001b[0mquad_r\u001b[0m\u001b[0;34m[\u001b[0m\u001b[0;36m0\u001b[0m\u001b[0;34m]\u001b[0m\u001b[0;34m\u001b[0m\u001b[0;34m\u001b[0m\u001b[0m\n\u001b[1;32m    883\u001b[0m         \u001b[0mabserr\u001b[0m \u001b[0;34m=\u001b[0m \u001b[0mquad_r\u001b[0m\u001b[0;34m[\u001b[0m\u001b[0;36m1\u001b[0m\u001b[0;34m]\u001b[0m\u001b[0;34m\u001b[0m\u001b[0;34m\u001b[0m\u001b[0m\n",
      "\u001b[0;32m/opt/miniconda3/envs/branch-env/lib/python3.6/site-packages/scipy/integrate/quadpack.py\u001b[0m in \u001b[0;36mquad\u001b[0;34m(func, a, b, args, full_output, epsabs, epsrel, limit, points, weight, wvar, wopts, maxp1, limlst)\u001b[0m\n\u001b[1;32m    350\u001b[0m     \u001b[0;32mif\u001b[0m \u001b[0mweight\u001b[0m \u001b[0;32mis\u001b[0m \u001b[0;32mNone\u001b[0m\u001b[0;34m:\u001b[0m\u001b[0;34m\u001b[0m\u001b[0;34m\u001b[0m\u001b[0m\n\u001b[1;32m    351\u001b[0m         retval = _quad(func, a, b, args, full_output, epsabs, epsrel, limit,\n\u001b[0;32m--> 352\u001b[0;31m                        points)\n\u001b[0m\u001b[1;32m    353\u001b[0m     \u001b[0;32melse\u001b[0m\u001b[0;34m:\u001b[0m\u001b[0;34m\u001b[0m\u001b[0;34m\u001b[0m\u001b[0m\n\u001b[1;32m    354\u001b[0m         \u001b[0;32mif\u001b[0m \u001b[0mpoints\u001b[0m \u001b[0;32mis\u001b[0m \u001b[0;32mnot\u001b[0m \u001b[0;32mNone\u001b[0m\u001b[0;34m:\u001b[0m\u001b[0;34m\u001b[0m\u001b[0;34m\u001b[0m\u001b[0m\n",
      "\u001b[0;32m/opt/miniconda3/envs/branch-env/lib/python3.6/site-packages/scipy/integrate/quadpack.py\u001b[0m in \u001b[0;36m_quad\u001b[0;34m(func, a, b, args, full_output, epsabs, epsrel, limit, points)\u001b[0m\n\u001b[1;32m    473\u001b[0m             \u001b[0mthe_points\u001b[0m \u001b[0;34m=\u001b[0m \u001b[0mthe_points\u001b[0m\u001b[0;34m[\u001b[0m\u001b[0mthe_points\u001b[0m \u001b[0;34m<\u001b[0m \u001b[0mb\u001b[0m\u001b[0;34m]\u001b[0m\u001b[0;34m\u001b[0m\u001b[0;34m\u001b[0m\u001b[0m\n\u001b[1;32m    474\u001b[0m             \u001b[0mthe_points\u001b[0m \u001b[0;34m=\u001b[0m \u001b[0mnumpy\u001b[0m\u001b[0;34m.\u001b[0m\u001b[0mconcatenate\u001b[0m\u001b[0;34m(\u001b[0m\u001b[0;34m(\u001b[0m\u001b[0mthe_points\u001b[0m\u001b[0;34m,\u001b[0m \u001b[0;34m(\u001b[0m\u001b[0;36m0.\u001b[0m\u001b[0;34m,\u001b[0m \u001b[0;36m0.\u001b[0m\u001b[0;34m)\u001b[0m\u001b[0;34m)\u001b[0m\u001b[0;34m)\u001b[0m\u001b[0;34m\u001b[0m\u001b[0;34m\u001b[0m\u001b[0m\n\u001b[0;32m--> 475\u001b[0;31m             \u001b[0;32mreturn\u001b[0m \u001b[0m_quadpack\u001b[0m\u001b[0;34m.\u001b[0m\u001b[0m_qagpe\u001b[0m\u001b[0;34m(\u001b[0m\u001b[0mfunc\u001b[0m\u001b[0;34m,\u001b[0m\u001b[0ma\u001b[0m\u001b[0;34m,\u001b[0m\u001b[0mb\u001b[0m\u001b[0;34m,\u001b[0m\u001b[0mthe_points\u001b[0m\u001b[0;34m,\u001b[0m\u001b[0margs\u001b[0m\u001b[0;34m,\u001b[0m\u001b[0mfull_output\u001b[0m\u001b[0;34m,\u001b[0m\u001b[0mepsabs\u001b[0m\u001b[0;34m,\u001b[0m\u001b[0mepsrel\u001b[0m\u001b[0;34m,\u001b[0m\u001b[0mlimit\u001b[0m\u001b[0;34m)\u001b[0m\u001b[0;34m\u001b[0m\u001b[0;34m\u001b[0m\u001b[0m\n\u001b[0m\u001b[1;32m    476\u001b[0m \u001b[0;34m\u001b[0m\u001b[0m\n\u001b[1;32m    477\u001b[0m \u001b[0;34m\u001b[0m\u001b[0m\n",
      "\u001b[0;32m/opt/miniconda3/envs/branch-env/lib/python3.6/site-packages/scipy/integrate/quadpack.py\u001b[0m in \u001b[0;36mintegrate\u001b[0;34m(self, *args, **kwargs)\u001b[0m\n\u001b[1;32m    879\u001b[0m             \u001b[0mf\u001b[0m \u001b[0;34m=\u001b[0m \u001b[0mpartial\u001b[0m\u001b[0;34m(\u001b[0m\u001b[0mself\u001b[0m\u001b[0;34m.\u001b[0m\u001b[0mintegrate\u001b[0m\u001b[0;34m,\u001b[0m \u001b[0mdepth\u001b[0m\u001b[0;34m=\u001b[0m\u001b[0mdepth\u001b[0m\u001b[0;34m+\u001b[0m\u001b[0;36m1\u001b[0m\u001b[0;34m)\u001b[0m\u001b[0;34m\u001b[0m\u001b[0;34m\u001b[0m\u001b[0m\n\u001b[1;32m    880\u001b[0m         quad_r = quad(f, low, high, args=args, full_output=self.full_output,\n\u001b[0;32m--> 881\u001b[0;31m                       **opt)\n\u001b[0m\u001b[1;32m    882\u001b[0m         \u001b[0mvalue\u001b[0m \u001b[0;34m=\u001b[0m \u001b[0mquad_r\u001b[0m\u001b[0;34m[\u001b[0m\u001b[0;36m0\u001b[0m\u001b[0;34m]\u001b[0m\u001b[0;34m\u001b[0m\u001b[0;34m\u001b[0m\u001b[0m\n\u001b[1;32m    883\u001b[0m         \u001b[0mabserr\u001b[0m \u001b[0;34m=\u001b[0m \u001b[0mquad_r\u001b[0m\u001b[0;34m[\u001b[0m\u001b[0;36m1\u001b[0m\u001b[0;34m]\u001b[0m\u001b[0;34m\u001b[0m\u001b[0;34m\u001b[0m\u001b[0m\n",
      "\u001b[0;32m/opt/miniconda3/envs/branch-env/lib/python3.6/site-packages/scipy/integrate/quadpack.py\u001b[0m in \u001b[0;36mquad\u001b[0;34m(func, a, b, args, full_output, epsabs, epsrel, limit, points, weight, wvar, wopts, maxp1, limlst)\u001b[0m\n\u001b[1;32m    350\u001b[0m     \u001b[0;32mif\u001b[0m \u001b[0mweight\u001b[0m \u001b[0;32mis\u001b[0m \u001b[0;32mNone\u001b[0m\u001b[0;34m:\u001b[0m\u001b[0;34m\u001b[0m\u001b[0;34m\u001b[0m\u001b[0m\n\u001b[1;32m    351\u001b[0m         retval = _quad(func, a, b, args, full_output, epsabs, epsrel, limit,\n\u001b[0;32m--> 352\u001b[0;31m                        points)\n\u001b[0m\u001b[1;32m    353\u001b[0m     \u001b[0;32melse\u001b[0m\u001b[0;34m:\u001b[0m\u001b[0;34m\u001b[0m\u001b[0;34m\u001b[0m\u001b[0m\n\u001b[1;32m    354\u001b[0m         \u001b[0;32mif\u001b[0m \u001b[0mpoints\u001b[0m \u001b[0;32mis\u001b[0m \u001b[0;32mnot\u001b[0m \u001b[0;32mNone\u001b[0m\u001b[0;34m:\u001b[0m\u001b[0;34m\u001b[0m\u001b[0;34m\u001b[0m\u001b[0m\n",
      "\u001b[0;32m/opt/miniconda3/envs/branch-env/lib/python3.6/site-packages/scipy/integrate/quadpack.py\u001b[0m in \u001b[0;36m_quad\u001b[0;34m(func, a, b, args, full_output, epsabs, epsrel, limit, points)\u001b[0m\n\u001b[1;32m    473\u001b[0m             \u001b[0mthe_points\u001b[0m \u001b[0;34m=\u001b[0m \u001b[0mthe_points\u001b[0m\u001b[0;34m[\u001b[0m\u001b[0mthe_points\u001b[0m \u001b[0;34m<\u001b[0m \u001b[0mb\u001b[0m\u001b[0;34m]\u001b[0m\u001b[0;34m\u001b[0m\u001b[0;34m\u001b[0m\u001b[0m\n\u001b[1;32m    474\u001b[0m             \u001b[0mthe_points\u001b[0m \u001b[0;34m=\u001b[0m \u001b[0mnumpy\u001b[0m\u001b[0;34m.\u001b[0m\u001b[0mconcatenate\u001b[0m\u001b[0;34m(\u001b[0m\u001b[0;34m(\u001b[0m\u001b[0mthe_points\u001b[0m\u001b[0;34m,\u001b[0m \u001b[0;34m(\u001b[0m\u001b[0;36m0.\u001b[0m\u001b[0;34m,\u001b[0m \u001b[0;36m0.\u001b[0m\u001b[0;34m)\u001b[0m\u001b[0;34m)\u001b[0m\u001b[0;34m)\u001b[0m\u001b[0;34m\u001b[0m\u001b[0;34m\u001b[0m\u001b[0m\n\u001b[0;32m--> 475\u001b[0;31m             \u001b[0;32mreturn\u001b[0m \u001b[0m_quadpack\u001b[0m\u001b[0;34m.\u001b[0m\u001b[0m_qagpe\u001b[0m\u001b[0;34m(\u001b[0m\u001b[0mfunc\u001b[0m\u001b[0;34m,\u001b[0m\u001b[0ma\u001b[0m\u001b[0;34m,\u001b[0m\u001b[0mb\u001b[0m\u001b[0;34m,\u001b[0m\u001b[0mthe_points\u001b[0m\u001b[0;34m,\u001b[0m\u001b[0margs\u001b[0m\u001b[0;34m,\u001b[0m\u001b[0mfull_output\u001b[0m\u001b[0;34m,\u001b[0m\u001b[0mepsabs\u001b[0m\u001b[0;34m,\u001b[0m\u001b[0mepsrel\u001b[0m\u001b[0;34m,\u001b[0m\u001b[0mlimit\u001b[0m\u001b[0;34m)\u001b[0m\u001b[0;34m\u001b[0m\u001b[0;34m\u001b[0m\u001b[0m\n\u001b[0m\u001b[1;32m    476\u001b[0m \u001b[0;34m\u001b[0m\u001b[0m\n\u001b[1;32m    477\u001b[0m \u001b[0;34m\u001b[0m\u001b[0m\n",
      "\u001b[0;32m/opt/miniconda3/envs/branch-env/lib/python3.6/site-packages/scipy/integrate/quadpack.py\u001b[0m in \u001b[0;36mintegrate\u001b[0;34m(self, *args, **kwargs)\u001b[0m\n\u001b[1;32m    879\u001b[0m             \u001b[0mf\u001b[0m \u001b[0;34m=\u001b[0m \u001b[0mpartial\u001b[0m\u001b[0;34m(\u001b[0m\u001b[0mself\u001b[0m\u001b[0;34m.\u001b[0m\u001b[0mintegrate\u001b[0m\u001b[0;34m,\u001b[0m \u001b[0mdepth\u001b[0m\u001b[0;34m=\u001b[0m\u001b[0mdepth\u001b[0m\u001b[0;34m+\u001b[0m\u001b[0;36m1\u001b[0m\u001b[0;34m)\u001b[0m\u001b[0;34m\u001b[0m\u001b[0;34m\u001b[0m\u001b[0m\n\u001b[1;32m    880\u001b[0m         quad_r = quad(f, low, high, args=args, full_output=self.full_output,\n\u001b[0;32m--> 881\u001b[0;31m                       **opt)\n\u001b[0m\u001b[1;32m    882\u001b[0m         \u001b[0mvalue\u001b[0m \u001b[0;34m=\u001b[0m \u001b[0mquad_r\u001b[0m\u001b[0;34m[\u001b[0m\u001b[0;36m0\u001b[0m\u001b[0;34m]\u001b[0m\u001b[0;34m\u001b[0m\u001b[0;34m\u001b[0m\u001b[0m\n\u001b[1;32m    883\u001b[0m         \u001b[0mabserr\u001b[0m \u001b[0;34m=\u001b[0m \u001b[0mquad_r\u001b[0m\u001b[0;34m[\u001b[0m\u001b[0;36m1\u001b[0m\u001b[0;34m]\u001b[0m\u001b[0;34m\u001b[0m\u001b[0;34m\u001b[0m\u001b[0m\n",
      "\u001b[0;32m/opt/miniconda3/envs/branch-env/lib/python3.6/site-packages/scipy/integrate/quadpack.py\u001b[0m in \u001b[0;36mquad\u001b[0;34m(func, a, b, args, full_output, epsabs, epsrel, limit, points, weight, wvar, wopts, maxp1, limlst)\u001b[0m\n\u001b[1;32m    350\u001b[0m     \u001b[0;32mif\u001b[0m \u001b[0mweight\u001b[0m \u001b[0;32mis\u001b[0m \u001b[0;32mNone\u001b[0m\u001b[0;34m:\u001b[0m\u001b[0;34m\u001b[0m\u001b[0;34m\u001b[0m\u001b[0m\n\u001b[1;32m    351\u001b[0m         retval = _quad(func, a, b, args, full_output, epsabs, epsrel, limit,\n\u001b[0;32m--> 352\u001b[0;31m                        points)\n\u001b[0m\u001b[1;32m    353\u001b[0m     \u001b[0;32melse\u001b[0m\u001b[0;34m:\u001b[0m\u001b[0;34m\u001b[0m\u001b[0;34m\u001b[0m\u001b[0m\n\u001b[1;32m    354\u001b[0m         \u001b[0;32mif\u001b[0m \u001b[0mpoints\u001b[0m \u001b[0;32mis\u001b[0m \u001b[0;32mnot\u001b[0m \u001b[0;32mNone\u001b[0m\u001b[0;34m:\u001b[0m\u001b[0;34m\u001b[0m\u001b[0;34m\u001b[0m\u001b[0m\n",
      "\u001b[0;32m/opt/miniconda3/envs/branch-env/lib/python3.6/site-packages/scipy/integrate/quadpack.py\u001b[0m in \u001b[0;36m_quad\u001b[0;34m(func, a, b, args, full_output, epsabs, epsrel, limit, points)\u001b[0m\n\u001b[1;32m    473\u001b[0m             \u001b[0mthe_points\u001b[0m \u001b[0;34m=\u001b[0m \u001b[0mthe_points\u001b[0m\u001b[0;34m[\u001b[0m\u001b[0mthe_points\u001b[0m \u001b[0;34m<\u001b[0m \u001b[0mb\u001b[0m\u001b[0;34m]\u001b[0m\u001b[0;34m\u001b[0m\u001b[0;34m\u001b[0m\u001b[0m\n\u001b[1;32m    474\u001b[0m             \u001b[0mthe_points\u001b[0m \u001b[0;34m=\u001b[0m \u001b[0mnumpy\u001b[0m\u001b[0;34m.\u001b[0m\u001b[0mconcatenate\u001b[0m\u001b[0;34m(\u001b[0m\u001b[0;34m(\u001b[0m\u001b[0mthe_points\u001b[0m\u001b[0;34m,\u001b[0m \u001b[0;34m(\u001b[0m\u001b[0;36m0.\u001b[0m\u001b[0;34m,\u001b[0m \u001b[0;36m0.\u001b[0m\u001b[0;34m)\u001b[0m\u001b[0;34m)\u001b[0m\u001b[0;34m)\u001b[0m\u001b[0;34m\u001b[0m\u001b[0;34m\u001b[0m\u001b[0m\n\u001b[0;32m--> 475\u001b[0;31m             \u001b[0;32mreturn\u001b[0m \u001b[0m_quadpack\u001b[0m\u001b[0;34m.\u001b[0m\u001b[0m_qagpe\u001b[0m\u001b[0;34m(\u001b[0m\u001b[0mfunc\u001b[0m\u001b[0;34m,\u001b[0m\u001b[0ma\u001b[0m\u001b[0;34m,\u001b[0m\u001b[0mb\u001b[0m\u001b[0;34m,\u001b[0m\u001b[0mthe_points\u001b[0m\u001b[0;34m,\u001b[0m\u001b[0margs\u001b[0m\u001b[0;34m,\u001b[0m\u001b[0mfull_output\u001b[0m\u001b[0;34m,\u001b[0m\u001b[0mepsabs\u001b[0m\u001b[0;34m,\u001b[0m\u001b[0mepsrel\u001b[0m\u001b[0;34m,\u001b[0m\u001b[0mlimit\u001b[0m\u001b[0;34m)\u001b[0m\u001b[0;34m\u001b[0m\u001b[0;34m\u001b[0m\u001b[0m\n\u001b[0m\u001b[1;32m    476\u001b[0m \u001b[0;34m\u001b[0m\u001b[0m\n\u001b[1;32m    477\u001b[0m \u001b[0;34m\u001b[0m\u001b[0m\n",
      "\u001b[0;32m/opt/miniconda3/envs/branch-env/lib/python3.6/site-packages/scipy/integrate/quadpack.py\u001b[0m in \u001b[0;36mintegrate\u001b[0;34m(self, *args, **kwargs)\u001b[0m\n\u001b[1;32m    879\u001b[0m             \u001b[0mf\u001b[0m \u001b[0;34m=\u001b[0m \u001b[0mpartial\u001b[0m\u001b[0;34m(\u001b[0m\u001b[0mself\u001b[0m\u001b[0;34m.\u001b[0m\u001b[0mintegrate\u001b[0m\u001b[0;34m,\u001b[0m \u001b[0mdepth\u001b[0m\u001b[0;34m=\u001b[0m\u001b[0mdepth\u001b[0m\u001b[0;34m+\u001b[0m\u001b[0;36m1\u001b[0m\u001b[0;34m)\u001b[0m\u001b[0;34m\u001b[0m\u001b[0;34m\u001b[0m\u001b[0m\n\u001b[1;32m    880\u001b[0m         quad_r = quad(f, low, high, args=args, full_output=self.full_output,\n\u001b[0;32m--> 881\u001b[0;31m                       **opt)\n\u001b[0m\u001b[1;32m    882\u001b[0m         \u001b[0mvalue\u001b[0m \u001b[0;34m=\u001b[0m \u001b[0mquad_r\u001b[0m\u001b[0;34m[\u001b[0m\u001b[0;36m0\u001b[0m\u001b[0;34m]\u001b[0m\u001b[0;34m\u001b[0m\u001b[0;34m\u001b[0m\u001b[0m\n\u001b[1;32m    883\u001b[0m         \u001b[0mabserr\u001b[0m \u001b[0;34m=\u001b[0m \u001b[0mquad_r\u001b[0m\u001b[0;34m[\u001b[0m\u001b[0;36m1\u001b[0m\u001b[0;34m]\u001b[0m\u001b[0;34m\u001b[0m\u001b[0;34m\u001b[0m\u001b[0m\n",
      "\u001b[0;32m/opt/miniconda3/envs/branch-env/lib/python3.6/site-packages/scipy/integrate/quadpack.py\u001b[0m in \u001b[0;36mquad\u001b[0;34m(func, a, b, args, full_output, epsabs, epsrel, limit, points, weight, wvar, wopts, maxp1, limlst)\u001b[0m\n\u001b[1;32m    350\u001b[0m     \u001b[0;32mif\u001b[0m \u001b[0mweight\u001b[0m \u001b[0;32mis\u001b[0m \u001b[0;32mNone\u001b[0m\u001b[0;34m:\u001b[0m\u001b[0;34m\u001b[0m\u001b[0;34m\u001b[0m\u001b[0m\n\u001b[1;32m    351\u001b[0m         retval = _quad(func, a, b, args, full_output, epsabs, epsrel, limit,\n\u001b[0;32m--> 352\u001b[0;31m                        points)\n\u001b[0m\u001b[1;32m    353\u001b[0m     \u001b[0;32melse\u001b[0m\u001b[0;34m:\u001b[0m\u001b[0;34m\u001b[0m\u001b[0;34m\u001b[0m\u001b[0m\n\u001b[1;32m    354\u001b[0m         \u001b[0;32mif\u001b[0m \u001b[0mpoints\u001b[0m \u001b[0;32mis\u001b[0m \u001b[0;32mnot\u001b[0m \u001b[0;32mNone\u001b[0m\u001b[0;34m:\u001b[0m\u001b[0;34m\u001b[0m\u001b[0;34m\u001b[0m\u001b[0m\n",
      "\u001b[0;32m/opt/miniconda3/envs/branch-env/lib/python3.6/site-packages/scipy/integrate/quadpack.py\u001b[0m in \u001b[0;36m_quad\u001b[0;34m(func, a, b, args, full_output, epsabs, epsrel, limit, points)\u001b[0m\n\u001b[1;32m    473\u001b[0m             \u001b[0mthe_points\u001b[0m \u001b[0;34m=\u001b[0m \u001b[0mthe_points\u001b[0m\u001b[0;34m[\u001b[0m\u001b[0mthe_points\u001b[0m \u001b[0;34m<\u001b[0m \u001b[0mb\u001b[0m\u001b[0;34m]\u001b[0m\u001b[0;34m\u001b[0m\u001b[0;34m\u001b[0m\u001b[0m\n\u001b[1;32m    474\u001b[0m             \u001b[0mthe_points\u001b[0m \u001b[0;34m=\u001b[0m \u001b[0mnumpy\u001b[0m\u001b[0;34m.\u001b[0m\u001b[0mconcatenate\u001b[0m\u001b[0;34m(\u001b[0m\u001b[0;34m(\u001b[0m\u001b[0mthe_points\u001b[0m\u001b[0;34m,\u001b[0m \u001b[0;34m(\u001b[0m\u001b[0;36m0.\u001b[0m\u001b[0;34m,\u001b[0m \u001b[0;36m0.\u001b[0m\u001b[0;34m)\u001b[0m\u001b[0;34m)\u001b[0m\u001b[0;34m)\u001b[0m\u001b[0;34m\u001b[0m\u001b[0;34m\u001b[0m\u001b[0m\n\u001b[0;32m--> 475\u001b[0;31m             \u001b[0;32mreturn\u001b[0m \u001b[0m_quadpack\u001b[0m\u001b[0;34m.\u001b[0m\u001b[0m_qagpe\u001b[0m\u001b[0;34m(\u001b[0m\u001b[0mfunc\u001b[0m\u001b[0;34m,\u001b[0m\u001b[0ma\u001b[0m\u001b[0;34m,\u001b[0m\u001b[0mb\u001b[0m\u001b[0;34m,\u001b[0m\u001b[0mthe_points\u001b[0m\u001b[0;34m,\u001b[0m\u001b[0margs\u001b[0m\u001b[0;34m,\u001b[0m\u001b[0mfull_output\u001b[0m\u001b[0;34m,\u001b[0m\u001b[0mepsabs\u001b[0m\u001b[0;34m,\u001b[0m\u001b[0mepsrel\u001b[0m\u001b[0;34m,\u001b[0m\u001b[0mlimit\u001b[0m\u001b[0;34m)\u001b[0m\u001b[0;34m\u001b[0m\u001b[0;34m\u001b[0m\u001b[0m\n\u001b[0m\u001b[1;32m    476\u001b[0m \u001b[0;34m\u001b[0m\u001b[0m\n\u001b[1;32m    477\u001b[0m \u001b[0;34m\u001b[0m\u001b[0m\n",
      "\u001b[0;32m/opt/miniconda3/envs/branch-env/lib/python3.6/site-packages/scipy/integrate/quadpack.py\u001b[0m in \u001b[0;36mintegrate\u001b[0;34m(self, *args, **kwargs)\u001b[0m\n\u001b[1;32m    879\u001b[0m             \u001b[0mf\u001b[0m \u001b[0;34m=\u001b[0m \u001b[0mpartial\u001b[0m\u001b[0;34m(\u001b[0m\u001b[0mself\u001b[0m\u001b[0;34m.\u001b[0m\u001b[0mintegrate\u001b[0m\u001b[0;34m,\u001b[0m \u001b[0mdepth\u001b[0m\u001b[0;34m=\u001b[0m\u001b[0mdepth\u001b[0m\u001b[0;34m+\u001b[0m\u001b[0;36m1\u001b[0m\u001b[0;34m)\u001b[0m\u001b[0;34m\u001b[0m\u001b[0;34m\u001b[0m\u001b[0m\n\u001b[1;32m    880\u001b[0m         quad_r = quad(f, low, high, args=args, full_output=self.full_output,\n\u001b[0;32m--> 881\u001b[0;31m                       **opt)\n\u001b[0m\u001b[1;32m    882\u001b[0m         \u001b[0mvalue\u001b[0m \u001b[0;34m=\u001b[0m \u001b[0mquad_r\u001b[0m\u001b[0;34m[\u001b[0m\u001b[0;36m0\u001b[0m\u001b[0;34m]\u001b[0m\u001b[0;34m\u001b[0m\u001b[0;34m\u001b[0m\u001b[0m\n\u001b[1;32m    883\u001b[0m         \u001b[0mabserr\u001b[0m \u001b[0;34m=\u001b[0m \u001b[0mquad_r\u001b[0m\u001b[0;34m[\u001b[0m\u001b[0;36m1\u001b[0m\u001b[0;34m]\u001b[0m\u001b[0;34m\u001b[0m\u001b[0;34m\u001b[0m\u001b[0m\n",
      "\u001b[0;32m/opt/miniconda3/envs/branch-env/lib/python3.6/site-packages/scipy/integrate/quadpack.py\u001b[0m in \u001b[0;36mquad\u001b[0;34m(func, a, b, args, full_output, epsabs, epsrel, limit, points, weight, wvar, wopts, maxp1, limlst)\u001b[0m\n\u001b[1;32m    350\u001b[0m     \u001b[0;32mif\u001b[0m \u001b[0mweight\u001b[0m \u001b[0;32mis\u001b[0m \u001b[0;32mNone\u001b[0m\u001b[0;34m:\u001b[0m\u001b[0;34m\u001b[0m\u001b[0;34m\u001b[0m\u001b[0m\n\u001b[1;32m    351\u001b[0m         retval = _quad(func, a, b, args, full_output, epsabs, epsrel, limit,\n\u001b[0;32m--> 352\u001b[0;31m                        points)\n\u001b[0m\u001b[1;32m    353\u001b[0m     \u001b[0;32melse\u001b[0m\u001b[0;34m:\u001b[0m\u001b[0;34m\u001b[0m\u001b[0;34m\u001b[0m\u001b[0m\n\u001b[1;32m    354\u001b[0m         \u001b[0;32mif\u001b[0m \u001b[0mpoints\u001b[0m \u001b[0;32mis\u001b[0m \u001b[0;32mnot\u001b[0m \u001b[0;32mNone\u001b[0m\u001b[0;34m:\u001b[0m\u001b[0;34m\u001b[0m\u001b[0;34m\u001b[0m\u001b[0m\n",
      "\u001b[0;32m/opt/miniconda3/envs/branch-env/lib/python3.6/site-packages/scipy/integrate/quadpack.py\u001b[0m in \u001b[0;36m_quad\u001b[0;34m(func, a, b, args, full_output, epsabs, epsrel, limit, points)\u001b[0m\n\u001b[1;32m    473\u001b[0m             \u001b[0mthe_points\u001b[0m \u001b[0;34m=\u001b[0m \u001b[0mthe_points\u001b[0m\u001b[0;34m[\u001b[0m\u001b[0mthe_points\u001b[0m \u001b[0;34m<\u001b[0m \u001b[0mb\u001b[0m\u001b[0;34m]\u001b[0m\u001b[0;34m\u001b[0m\u001b[0;34m\u001b[0m\u001b[0m\n\u001b[1;32m    474\u001b[0m             \u001b[0mthe_points\u001b[0m \u001b[0;34m=\u001b[0m \u001b[0mnumpy\u001b[0m\u001b[0;34m.\u001b[0m\u001b[0mconcatenate\u001b[0m\u001b[0;34m(\u001b[0m\u001b[0;34m(\u001b[0m\u001b[0mthe_points\u001b[0m\u001b[0;34m,\u001b[0m \u001b[0;34m(\u001b[0m\u001b[0;36m0.\u001b[0m\u001b[0;34m,\u001b[0m \u001b[0;36m0.\u001b[0m\u001b[0;34m)\u001b[0m\u001b[0;34m)\u001b[0m\u001b[0;34m)\u001b[0m\u001b[0;34m\u001b[0m\u001b[0;34m\u001b[0m\u001b[0m\n\u001b[0;32m--> 475\u001b[0;31m             \u001b[0;32mreturn\u001b[0m \u001b[0m_quadpack\u001b[0m\u001b[0;34m.\u001b[0m\u001b[0m_qagpe\u001b[0m\u001b[0;34m(\u001b[0m\u001b[0mfunc\u001b[0m\u001b[0;34m,\u001b[0m\u001b[0ma\u001b[0m\u001b[0;34m,\u001b[0m\u001b[0mb\u001b[0m\u001b[0;34m,\u001b[0m\u001b[0mthe_points\u001b[0m\u001b[0;34m,\u001b[0m\u001b[0margs\u001b[0m\u001b[0;34m,\u001b[0m\u001b[0mfull_output\u001b[0m\u001b[0;34m,\u001b[0m\u001b[0mepsabs\u001b[0m\u001b[0;34m,\u001b[0m\u001b[0mepsrel\u001b[0m\u001b[0;34m,\u001b[0m\u001b[0mlimit\u001b[0m\u001b[0;34m)\u001b[0m\u001b[0;34m\u001b[0m\u001b[0;34m\u001b[0m\u001b[0m\n\u001b[0m\u001b[1;32m    476\u001b[0m \u001b[0;34m\u001b[0m\u001b[0m\n\u001b[1;32m    477\u001b[0m \u001b[0;34m\u001b[0m\u001b[0m\n",
      "\u001b[0;32m/opt/miniconda3/envs/branch-env/lib/python3.6/site-packages/scipy/integrate/quadpack.py\u001b[0m in \u001b[0;36mintegrate\u001b[0;34m(self, *args, **kwargs)\u001b[0m\n\u001b[1;32m    879\u001b[0m             \u001b[0mf\u001b[0m \u001b[0;34m=\u001b[0m \u001b[0mpartial\u001b[0m\u001b[0;34m(\u001b[0m\u001b[0mself\u001b[0m\u001b[0;34m.\u001b[0m\u001b[0mintegrate\u001b[0m\u001b[0;34m,\u001b[0m \u001b[0mdepth\u001b[0m\u001b[0;34m=\u001b[0m\u001b[0mdepth\u001b[0m\u001b[0;34m+\u001b[0m\u001b[0;36m1\u001b[0m\u001b[0;34m)\u001b[0m\u001b[0;34m\u001b[0m\u001b[0;34m\u001b[0m\u001b[0m\n\u001b[1;32m    880\u001b[0m         quad_r = quad(f, low, high, args=args, full_output=self.full_output,\n\u001b[0;32m--> 881\u001b[0;31m                       **opt)\n\u001b[0m\u001b[1;32m    882\u001b[0m         \u001b[0mvalue\u001b[0m \u001b[0;34m=\u001b[0m \u001b[0mquad_r\u001b[0m\u001b[0;34m[\u001b[0m\u001b[0;36m0\u001b[0m\u001b[0;34m]\u001b[0m\u001b[0;34m\u001b[0m\u001b[0;34m\u001b[0m\u001b[0m\n\u001b[1;32m    883\u001b[0m         \u001b[0mabserr\u001b[0m \u001b[0;34m=\u001b[0m \u001b[0mquad_r\u001b[0m\u001b[0;34m[\u001b[0m\u001b[0;36m1\u001b[0m\u001b[0;34m]\u001b[0m\u001b[0;34m\u001b[0m\u001b[0;34m\u001b[0m\u001b[0m\n",
      "\u001b[0;32m/opt/miniconda3/envs/branch-env/lib/python3.6/site-packages/scipy/integrate/quadpack.py\u001b[0m in \u001b[0;36mquad\u001b[0;34m(func, a, b, args, full_output, epsabs, epsrel, limit, points, weight, wvar, wopts, maxp1, limlst)\u001b[0m\n\u001b[1;32m    350\u001b[0m     \u001b[0;32mif\u001b[0m \u001b[0mweight\u001b[0m \u001b[0;32mis\u001b[0m \u001b[0;32mNone\u001b[0m\u001b[0;34m:\u001b[0m\u001b[0;34m\u001b[0m\u001b[0;34m\u001b[0m\u001b[0m\n\u001b[1;32m    351\u001b[0m         retval = _quad(func, a, b, args, full_output, epsabs, epsrel, limit,\n\u001b[0;32m--> 352\u001b[0;31m                        points)\n\u001b[0m\u001b[1;32m    353\u001b[0m     \u001b[0;32melse\u001b[0m\u001b[0;34m:\u001b[0m\u001b[0;34m\u001b[0m\u001b[0;34m\u001b[0m\u001b[0m\n\u001b[1;32m    354\u001b[0m         \u001b[0;32mif\u001b[0m \u001b[0mpoints\u001b[0m \u001b[0;32mis\u001b[0m \u001b[0;32mnot\u001b[0m \u001b[0;32mNone\u001b[0m\u001b[0;34m:\u001b[0m\u001b[0;34m\u001b[0m\u001b[0;34m\u001b[0m\u001b[0m\n",
      "\u001b[0;32m/opt/miniconda3/envs/branch-env/lib/python3.6/site-packages/scipy/integrate/quadpack.py\u001b[0m in \u001b[0;36m_quad\u001b[0;34m(func, a, b, args, full_output, epsabs, epsrel, limit, points)\u001b[0m\n\u001b[1;32m    473\u001b[0m             \u001b[0mthe_points\u001b[0m \u001b[0;34m=\u001b[0m \u001b[0mthe_points\u001b[0m\u001b[0;34m[\u001b[0m\u001b[0mthe_points\u001b[0m \u001b[0;34m<\u001b[0m \u001b[0mb\u001b[0m\u001b[0;34m]\u001b[0m\u001b[0;34m\u001b[0m\u001b[0;34m\u001b[0m\u001b[0m\n\u001b[1;32m    474\u001b[0m             \u001b[0mthe_points\u001b[0m \u001b[0;34m=\u001b[0m \u001b[0mnumpy\u001b[0m\u001b[0;34m.\u001b[0m\u001b[0mconcatenate\u001b[0m\u001b[0;34m(\u001b[0m\u001b[0;34m(\u001b[0m\u001b[0mthe_points\u001b[0m\u001b[0;34m,\u001b[0m \u001b[0;34m(\u001b[0m\u001b[0;36m0.\u001b[0m\u001b[0;34m,\u001b[0m \u001b[0;36m0.\u001b[0m\u001b[0;34m)\u001b[0m\u001b[0;34m)\u001b[0m\u001b[0;34m)\u001b[0m\u001b[0;34m\u001b[0m\u001b[0;34m\u001b[0m\u001b[0m\n\u001b[0;32m--> 475\u001b[0;31m             \u001b[0;32mreturn\u001b[0m \u001b[0m_quadpack\u001b[0m\u001b[0;34m.\u001b[0m\u001b[0m_qagpe\u001b[0m\u001b[0;34m(\u001b[0m\u001b[0mfunc\u001b[0m\u001b[0;34m,\u001b[0m\u001b[0ma\u001b[0m\u001b[0;34m,\u001b[0m\u001b[0mb\u001b[0m\u001b[0;34m,\u001b[0m\u001b[0mthe_points\u001b[0m\u001b[0;34m,\u001b[0m\u001b[0margs\u001b[0m\u001b[0;34m,\u001b[0m\u001b[0mfull_output\u001b[0m\u001b[0;34m,\u001b[0m\u001b[0mepsabs\u001b[0m\u001b[0;34m,\u001b[0m\u001b[0mepsrel\u001b[0m\u001b[0;34m,\u001b[0m\u001b[0mlimit\u001b[0m\u001b[0;34m)\u001b[0m\u001b[0;34m\u001b[0m\u001b[0;34m\u001b[0m\u001b[0m\n\u001b[0m\u001b[1;32m    476\u001b[0m \u001b[0;34m\u001b[0m\u001b[0m\n\u001b[1;32m    477\u001b[0m \u001b[0;34m\u001b[0m\u001b[0m\n",
      "\u001b[0;32m<ipython-input-16-bce1a1e08963>\u001b[0m in \u001b[0;36mexpS\u001b[0;34m(self, *args)\u001b[0m\n\u001b[1;32m     20\u001b[0m \u001b[0;34m\u001b[0m\u001b[0m\n\u001b[1;32m     21\u001b[0m     \u001b[0;31m# Returns e^(-S[x])\u001b[0m\u001b[0;34m\u001b[0m\u001b[0;34m\u001b[0m\u001b[0;34m\u001b[0m\u001b[0m\n\u001b[0;32m---> 22\u001b[0;31m     \u001b[0;32mdef\u001b[0m \u001b[0mexpS\u001b[0m\u001b[0;34m(\u001b[0m\u001b[0mself\u001b[0m\u001b[0;34m,\u001b[0m\u001b[0;34m*\u001b[0m\u001b[0margs\u001b[0m\u001b[0;34m)\u001b[0m\u001b[0;34m:\u001b[0m\u001b[0;34m\u001b[0m\u001b[0;34m\u001b[0m\u001b[0m\n\u001b[0m\u001b[1;32m     23\u001b[0m         \u001b[0mx\u001b[0m \u001b[0;34m=\u001b[0m \u001b[0mlist\u001b[0m\u001b[0;34m(\u001b[0m\u001b[0margs\u001b[0m\u001b[0;34m)\u001b[0m\u001b[0;34m[\u001b[0m\u001b[0;34m:\u001b[0m\u001b[0;34m-\u001b[0m\u001b[0;36m1\u001b[0m\u001b[0;34m]\u001b[0m\u001b[0;34m\u001b[0m\u001b[0;34m\u001b[0m\u001b[0m\n\u001b[1;32m     24\u001b[0m         \u001b[0mxi\u001b[0m \u001b[0;34m=\u001b[0m \u001b[0margs\u001b[0m\u001b[0;34m[\u001b[0m\u001b[0;34m-\u001b[0m\u001b[0;36m1\u001b[0m\u001b[0;34m]\u001b[0m\u001b[0;34m\u001b[0m\u001b[0;34m\u001b[0m\u001b[0m\n",
      "\u001b[0;31mKeyboardInterrupt\u001b[0m: "
     ]
    }
   ],
   "source": [
    "d_osc1 = DiscHarmonicOsc(boundaries=[-4, 4], N=4, m=1, k=1)\n",
    "\n",
    "xmax = 2.4\n",
    "nxpts = 12\n",
    "xGrid = np.linspace(0, xmax, nxpts)\n",
    "quadResult = np.zeros_like(xGrid)\n",
    "\n",
    "start = time.time()\n",
    "for i,xi in enumerate(xGrid):\n",
    "    quadResult[i] = integrate.nquad(func = d_osc1.expS, ranges = (d_osc1.N-2)*[d_osc1.bdd], args = (xi,), opts={'points': [-2,2]}) #,\n",
    "                                                                                                                # 'epsabs': 1e-3, 'epsrel': 1e-1})[0]\n",
    "    print(quadResult[i])\n",
    "    \n",
    "end = time.time()\n",
    "print(\"Time elapsed: {} s\".format(end-start))"
   ]
  },
  {
   "cell_type": "code",
   "execution_count": null,
   "id": "b1c76d08-9405-43cb-bb3c-c06ff9eed07e",
   "metadata": {},
   "outputs": [],
   "source": [
    "def expS_lat(*x):\n",
    "    x0 = x[-2]\n",
    "    N = int(x[-1])\n",
    "    \n",
    "    xx = list(x)[:(N-1)]\n",
    "    xx.insert(0,x0)\n",
    "    xx.insert(N,x0)\n",
    "    \n",
    "    KE, PE = 0.,0.\n",
    "    \n",
    "    for i in range(len(xx)-1):\n",
    "        KE += m/(2*a) * (xx[i+1] - xx[i])**2\n",
    "        PE += a * harmonicV(xx[i])\n",
    "        \n",
    "    return A*np.exp(-(KE+PE))"
   ]
  },
  {
   "cell_type": "code",
   "execution_count": 112,
   "id": "1ff45f62-6a16-44ac-a9f4-5328d2f6ccf7",
   "metadata": {},
   "outputs": [
    {
     "data": {
      "text/plain": [
       "[<matplotlib.lines.Line2D at 0x7fb75386c518>]"
      ]
     },
     "execution_count": 112,
     "metadata": {},
     "output_type": "execute_result"
    },
    {
     "data": {
      "image/png": "[encoded data removed]",
      "text/plain": [
       "<Figure size 432x288 with 1 Axes>"
      ]
     },
     "metadata": {
      "needs_background": "light"
     },
     "output_type": "display_data"
    }
   ],
   "source": [
    "plt.plot(xGrid,quadResult)"
   ]
  },
  {
   "cell_type": "markdown",
   "id": "1eb1c5f3-d431-4a82-87f6-52463c70db4a",
   "metadata": {},
   "source": [
    "## Monte Carlo Evaluation of Path Integrals"
   ]
  },
  {
   "cell_type": "markdown",
   "id": "7fb58393-2e66-453f-9577-b75de62a90da",
   "metadata": {
    "tags": []
   },
   "source": [
    "### The Monte Carlo evaluation method"
   ]
  },
  {
   "cell_type": "markdown",
   "id": "b9193eba-577a-4620-897e-320bdf8505ca",
   "metadata": {},
   "source": [
    "Our goal is to compute\n",
    "\n",
    "$$ \\int_{\\vec{x}\\in D} f(\\vec{x})d\\vec{x} $$\n",
    "\n",
    "Doing some quick rearranging,\n",
    "\n",
    "$$ \\int_{\\vec{x}\\in D} f(\\vec{x})d\\vec{x} = \\int_{\\vec{x}\\in D} \\frac{f(\\vec{x})}{p(\\vec{x})} p(\\vec{x}) d\\vec{x} \n",
    "    \\equiv \\int_{\\vec{x}\\in D} g(\\vec{x}) p(\\vec{x}) d\\vec{x} = E\\left[g(\\vec{x})\\right] $$\n",
    "    \n",
    "In the discretized case, this is equivalent to\n",
    "\n",
    "$$ E\\left[g(\\vec{x})\\right] = \\sum^N_{j=0} \\frac{1}{N} g(\\vec{x}_j) = \\sum^N_{j=0} \\frac{1}{N} \\frac{f(\\vec{x}_j)}{p(\\vec{x}_j)} $$\n",
    "\n",
    "We previously identified $ p(\\vec{x}) $ as a probability distribution: if we take it to be uniform, and that all variables have the same domain of integration, then all $\\vec{x}_j$ have the same probability of occuring within the sample:\n",
    "\n",
    "$$ \\int^{\\vec{x}_f}_{\\vec{x}_i} f(\\vec{x})d\\vec{x} \\approx \\sum^N_{j=0} \\frac{1}{N} \\frac{f(\\vec{x}_j)}{\\frac{1}{|\\vec{x}_f - \\vec{x}_i|}} = \\sum^N_{j=0} \\frac{|\\vec{x}_f - \\vec{x}_i|}{N} f(\\vec{x}_j) $$\n",
    "\n",
    "if $ b > a $, for finite $ N $.\n"
   ]
  },
  {
   "cell_type": "markdown",
   "id": "0b8c18fd-16cf-4bb8-93e5-e5795b2623f3",
   "metadata": {},
   "source": [
    "### Revisited: The harmonic oscillator ground state"
   ]
  },
  {
   "cell_type": "markdown",
   "id": "10c5fc18-fe18-4269-a5b5-b1173b743609",
   "metadata": {},
   "source": [
    "Recall, in our evaluation of the harmonic oscillator ground state, we were effectively taking the integral of $ e^{-S[x]} $: so, set $ f(\\vec{x}) \\equiv e^{-S[x]} $. We can still use the uniform distribution--there is a weight $ e^{-S[x]} $ assigned to each path, so the weights themselves are uniformly distributed across the domain.\n",
    "\n",
    "We now calculate\n",
    "\n",
    "$$ \\sum^N_{j=0} \\frac{|\\vec{x}_f - \\vec{x}_i|}{N} e^{-S[x]} $$"
   ]
  },
  {
   "cell_type": "code",
   "execution_count": 4,
   "id": "a93fafd0-00a2-4c29-b888-ec4a6d39fb5c",
   "metadata": {},
   "outputs": [],
   "source": [
    "N = 8 # time steps\n",
    "ti,tf = 0,N/2 # Initial time and Final time stamps\n",
    "a = (tf - ti)/ N # Grid spacing\n",
    "m = 1 # particle mass\n",
    "k = 1 # oscillator strength\n",
    "A = (m/(2*np.pi*a))**(N/2) # Wave function normalization\n",
    "\n",
    "xBounds = [-4, 4] # bounds of integration\n",
    "xmax = 2.4\n",
    "xGrid = np.linspace(0,xmax,N) # Grid of xpts for our wf\n",
    "vTest = harmonicV(xGrid)"
   ]
  },
  {
   "cell_type": "code",
   "execution_count": 5,
   "id": "ddf1dd9b-9f9b-4d8f-96c2-af56228c5290",
   "metadata": {},
   "outputs": [],
   "source": [
    "def expS_lat(*x):\n",
    "    KE, PE = 0.,0.\n",
    "    \n",
    "    xx = list(*x)\n",
    "    \n",
    "    for i in range(N-1):\n",
    "        KE += m/(2*a) * (xx[i+1] - xx[i])**2\n",
    "        PE += a * harmonicV(xx[i])\n",
    "        \n",
    "    return A*np.exp(-(KE+PE))\n",
    "\n",
    "def mc_integrate(func, bounds, dim, x0, n = 1000): # https://boyangzhao.github.io/posts/monte-carlo-integration\n",
    "    # Monte Carlo integration of given function over domain from a to b (for each parameter)\n",
    "    # dim: dimensions of function\n",
    "    \n",
    "    xi = x0\n",
    "    \n",
    "    a,b = bounds[0],bounds[1]\n",
    "    \n",
    "    x_list = np.zeros((n,dim))\n",
    "    x_list[:,1:dim-1] = np.random.uniform(a, b, (n, dim-2))\n",
    "    x_list[:,0] = np.full((n,),xi)\n",
    "    x_list[:,-1] = np.full((n,),xi)\n",
    "    \n",
    "    y=0\n",
    "    \n",
    "    for i in range(n):\n",
    "        y += func(x_list[i]) \n",
    "    \n",
    "    domain = np.power(b-a, dim-2) ## dim-1 because there is no integration on the Nth x\n",
    "    \n",
    "    integ = domain * y/n\n",
    "    \n",
    "    return integ"
   ]
  },
  {
   "cell_type": "code",
   "execution_count": 147,
   "id": "fe4eb70d-d121-4fe4-9248-cb442e9997e1",
   "metadata": {},
   "outputs": [
    {
     "name": "stdout",
     "output_type": "stream",
     "text": [
      "0.05470738266138809\n",
      "0.05844619933096617\n",
      "0.04620428509185479\n",
      "0.04179756575530592\n",
      "0.023282647071466364\n",
      "0.017448455293692725\n",
      "0.010600942910309073\n",
      "0.005529016357981464\n",
      "0.0038112278813891816\n",
      "0.0013518538498812098\n",
      "0.0005565182924089515\n",
      "0.00021412242970765075\n"
     ]
    }
   ],
   "source": [
    "mcResult = np.zeros(12)\n",
    "\n",
    "for i,xi in enumerate(np.linspace(0,2.4,12)):\n",
    "    mcResult[i] = mc_integrate(expS_lat, xBounds, N, xi, int(1e6))\n",
    "    print(mcResult[i])"
   ]
  },
  {
   "cell_type": "code",
   "execution_count": null,
   "id": "e0efe375-5afb-443d-b4ae-3af80e1a31b0",
   "metadata": {},
   "outputs": [],
   "source": [
    "E = "
   ]
  },
  {
   "cell_type": "code",
   "execution_count": 148,
   "id": "1687a4aa-f719-4165-b29b-5c0c81d1e96c",
   "metadata": {},
   "outputs": [
    {
     "data": {
      "text/plain": [
       "[<matplotlib.lines.Line2D at 0x7fb753ce0f98>]"
      ]
     },
     "execution_count": 148,
     "metadata": {},
     "output_type": "execute_result"
    },
    {
     "data": {
      "image/png": "[encoded data removed]",
      "text/plain": [
       "<Figure size 432x288 with 1 Axes>"
      ]
     },
     "metadata": {
      "needs_background": "light"
     },
     "output_type": "display_data"
    }
   ],
   "source": [
    "plt.plot(np.linspace(0,2.4,12), mcResult)"
   ]
  },
  {
   "cell_type": "markdown",
   "id": "614fef87-a6c9-4b4f-8655-c4fa0ae5d2f0",
   "metadata": {},
   "source": [
    "### Application #2: Finding the first excited state"
   ]
  },
  {
   "cell_type": "markdown",
   "id": "d96ec066-80bb-4ba9-9ba2-129e44a02a2d",
   "metadata": {},
   "source": [
    "So, getting the ground state energy was a cool trick. How about higher energies? It looks like we are going to need another trick. Consider the quantity\n",
    "\n",
    "$$ \\left<x(t_2)x(t_1)\\right> \\equiv \\frac{\\int D[x] x(t_2)x(t_1)e^{-S[x]}}{\\int D[x] e^{-S[x]}} $$\n",
    "\n",
    "where now, we integrate over all x; that is we now include $ x = x_f $ & $ x = x_i $ (why?). By definition of the time evolution operator, the numerator is\n",
    "\n",
    "$$ \\left<x(t_2)x(t_1)\\right> = \\int \\bra{x}e^{-H(t_f - t_2)}\\tilde{x}e^{-H(t_2 - t_1)}\\tilde{x}e^{-H(t_1 - t_i)}\\ket{x} $$\n",
    "\n",
    "(what is $ \\tilde{x} $ ?). With $ T=t_f - t_i $ & $ t = t_2 - t_1 $,\n",
    "\n",
    "$$ \\left<x(t_2)x(t_1)\\right> = \\frac{\\sum e^{-E_nT}\\bra{E_n}\\tilde{x}e^{-(H-E_n)t} \\tilde{x} \\ket{E_n}} {\\sum e^{-E_nT}} $$\n",
    "\n",
    "Again, when T>>t and is large, then the ground state dominates, and if t is large (but $ T >> t $ still,\n",
    "\n",
    "$$\n",
    "\\begin{align} G(t) &\\equiv \\left<x(t_2)x(t_1)\\right> \\longrightarrow \\bramket{E_0}{\\tilde{x}e^{-(H-E_n)t}\\tilde{x}}{E_0}\n",
    "                     & \\longrightarrow \\left|\\bramket{E_0}{\\tilde{x}}{E_1}\\right|^2 e^{-(E_1 - E_0)t}... \n",
    "\\end{align} $$\n",
    "                     \n",
    "We can manipulate this expression to find $E_1$:\n",
    "\n",
    "$$ ln G(t) = 2ln(\\bramket{E_0}{\\tilde{x}}{E_1} - (E1 - E0)t $$\n",
    "$$ ln \\left(G(t)/G(t+a)\\right) \\longrightarrow (E_1 - E_0)a $$"
   ]
  },
  {
   "cell_type": "code",
   "execution_count": null,
   "id": "aaa85ea2-cc0d-44a4-9e85-9d6b5a8069e6",
   "metadata": {},
   "outputs": [],
   "source": []
  },
  {
   "cell_type": "code",
   "execution_count": null,
   "id": "76136ecc-9401-4300-b5c3-57aa43d7980a",
   "metadata": {},
   "outputs": [],
   "source": []
  },
  {
   "cell_type": "markdown",
   "id": "7bf490c5-0988-4d06-9d76-2b96c7ece0c2",
   "metadata": {},
   "source": [
    "### The Metropolis Algorithm: A computational speed-up"
   ]
  },
  {
   "cell_type": "markdown",
   "id": "5a8a6ede-9ec5-45b0-a67d-6f508a56ba6a",
   "metadata": {},
   "source": [
    "These path integrals averages $ \\left<\\Gamma [x] \\right> $ of arbitrary functionals $ \\Gamma [x] $ can be used to compute any physical property of the excited states. Note\n",
    "\n",
    "$$ \\left<\\Gamma[x]\\right> = \\frac{\\int D[x] \\Gamma[x]e^{-S[x]}}{\\int D[x] e^{-S[x]}} $$\n",
    "\n",
    "We call the Monte Carlo uncertainty $ \\sigma_{\\bar{\\Gamma}} $. This will never be zero, since the number of paths will never be infinite, and is a potential source of error estimated as\n",
    "\n",
    "$$ \\sigma^2_{\\bar{\\Gamma}} \\approx \\frac{1}{N} \\left[ \\frac{1}{N} \\sum^{N}_{\\alpha=1} \\Gamma^2 [x^{\\alpha}] - \\bar{\\Gamma}^2 \\right] \n",
    "                            \\longrightarrow \\frac{\\left<\\Gamma^2 \\right> - \\left<\\Gamma\\right>^2 }{N} $$\n",
    "                            \n",
    "For N large, the statistical uncertainties are supposed to vanish."
   ]
  },
  {
   "cell_type": "markdown",
   "id": "8fdbcb8d-f0be-4933-9efb-a862f16be30f",
   "metadata": {},
   "source": [
    "What if we could create some specialized random-vector generator that would create our Monte-Carlo set of paths that *already has* the probability weighting $ P[x] = e^{-S[x]} $ included in it? That way, we wouldn't have to create so many paths and weigh them afterwards!\n",
    "\n",
    "The Metropolis Algorithm begins with a random path $ x_0 $. $x_0$ is modified at each lattice point, creating a new (or *updated*) path $ x_1 $. We want to do something with $ \\Delta S $....\n",
    "\n",
    "The algorithm steps are as follows:\n",
    "1. Initialize the first path $ x_0 $ to all 0's. Set a \n",
    "2. Update the path: for the $ j^{th} $ lattice site on the $ n^{th} $ path $ x^n_j $,\n",
    "     1. Generate a random number $ \\delta $, and consider the same path with $ x^n_j \\rightarrow x^n_j + \\delta $; \n",
    "     2. If the action is reduced $ \\Delta S < 0 $ between these two paths, keep the new $ x_j $ and proceed to the next value of j.\n",
    "        If the action is increased $ \\Delta S > 0 $ between these two paths; if $ e^{-\\Delta S} > \\eta $, keep the new $ x_j $. Otherwise, restore the old value and move on to the next lattice point.\n",
    "3. Keep the path. Repeat the update N times\n",
    "4. Average the paths to get the estimate\n",
    "        \n",
    "The Metropolis Algorithm is 'not always the best' [?], and there are a couple of optimization techniques we will use. \n",
    "1. Thinning out correlated paths\n",
    "    1. Adjusting epsilon - it has been advised that one keeps track of the \"success\" rate of the update step (2) and adjust epsilon so taht it has about 50% success. This has already been tweaked.\n",
    "    2. Cutting\n",
    "2. Thermalizing the lattice"
   ]
  },
  {
   "cell_type": "code",
   "execution_count": 13,
   "id": "5d8dd2cd-9130-491b-acb7-f9dbdc1783e9",
   "metadata": {},
   "outputs": [],
   "source": [
    "def dS_n(x,N,n):\n",
    "    KE = m/a * x[n]*(x[n] - x[n+1] - x[n-1])\n",
    "    PE = a * harmonicV(x[n])\n",
    "    \n",
    "    return KE+PE\n",
    "\n",
    "def H(x,N):\n",
    "    KE, PE = 0.,0.\n",
    "    \n",
    "    for n in range(N-1):\n",
    "        KE += m/(2*a) * (x[n+1] - x[n])**2\n",
    "        PE += a * harmonicV(x[n])\n",
    "        \n",
    "    return (KE+PE)\n",
    "\n",
    "def maUpdate(x, N, eps):\n",
    "    for n in range(N-1):\n",
    "        dS_old = dS_n(x,N,n)\n",
    "        xi = np.random.uniform(-eps, eps)\n",
    "\n",
    "        x[n] += xi\n",
    "        \n",
    "        dS_new = dS_n(x, N, n)\n",
    "        \n",
    "        dS = dS_new - dS_old\n",
    "        \n",
    "        if dS > 0 and np.exp(-dS) < np.random.uniform(0,1): ################\n",
    "            x[n] -= xi\n",
    "            \n",
    "def maMC_integrate(func, bounds, N, eps, N_cor, N_cf):\n",
    "    # Intialize\n",
    "    x = np.zeros(N)\n",
    "    avg_f = 0\n",
    "    \n",
    "    # Update\n",
    "    for j in range(5*N_cor):\n",
    "        maUpdate(x,N,eps)\n",
    "\n",
    "    for alpha in range(N_cf):\n",
    "        for j in range(N_cor):\n",
    "            maUpdate(x,N,eps)\n",
    "        \n",
    "\n",
    "        avg_f += func(x,N)\n",
    "            \n",
    "    avg_f = avg_f/N_cf/N\n",
    "        \n",
    "    return avg_f\n"
   ]
  },
  {
   "cell_type": "code",
   "execution_count": 20,
   "id": "05fcb1cc-055d-47d8-a6b7-777be7909af3",
   "metadata": {},
   "outputs": [],
   "source": [
    "N = 20 # time steps\n",
    "ti,tf = 0,N/2 # Initial time and Final time stamps\n",
    "a = (tf - ti)/ N # Grid spacing\n",
    "m = 1 # particle mass\n",
    "k = 1 # oscillator strength\n",
    "A = (m/(2*np.pi*a))**(N/2) # Wave function normalization\n",
    "\n",
    "N_cor = 20 # Number of paths to skip in order to thermalize\n",
    "N_cf = 2500  # Number of paths to generate after thermalization\n",
    "eps = 1.4\n",
    "xi = np.random.uniform(-eps,eps)"
   ]
  },
  {
   "cell_type": "code",
   "execution_count": 21,
   "id": "822a03fe-8e60-4864-bc14-c3b30ccf2d3a",
   "metadata": {},
   "outputs": [
    {
     "name": "stdout",
     "output_type": "stream",
     "text": [
      "0.4601204286707648\n"
     ]
    }
   ],
   "source": [
    "maMCresult = maMC_integrate(H, xBounds, N, eps, N_cor, N_cf)\n",
    "print(maMCresult)"
   ]
  },
  {
   "cell_type": "markdown",
   "id": "30dfe7ee-92e8-4341-9998-b9c4d87a55a2",
   "metadata": {},
   "source": [
    "### Revisited: The harmonic oscillator"
   ]
  },
  {
   "cell_type": "code",
   "execution_count": null,
   "id": "cea5fa92-8453-48bf-8336-91ff59d205bc",
   "metadata": {},
   "outputs": [],
   "source": []
  },
  {
   "cell_type": "markdown",
   "id": "856d6187-9a73-41ee-8060-09cfaf096de6",
   "metadata": {},
   "source": [
    "### Statistical Errors"
   ]
  },
  {
   "cell_type": "markdown",
   "id": "fa67ab55-da5e-4ce9-b2db-f365418eabf9",
   "metadata": {},
   "source": [
    "There are always statistical errors that vanish only in the limit where infinitely many configurations are employed: $ N_{cf} \\rightarrow \\infty $. The crude way to get the statistical uncertainty on our expectation value is to run the calculation many times, and deduce the uncertainty from those trials. The main source of computational expense comes from the generation of new random numbers.\n",
    "\n",
    "This is where the bootstrap procedure comes in. Given $ N_{cf} $ measurements of an expectation value $ \\bar{E} $, we can construct a \"bootstrap copy\" of the ensemble by selectring frandom $ \\bar{E} ^ \\alpha $'s at random from the original ensemble taking $ N_{cf} $ random samples from our $ N_{cf} $ paths: the bootstrap copy is allowed to contain duplicates. This new ensemble can be averaged to obtain a new estimate for $ \\bar{E} $. By repeating this procedure many times, we can generate a distribution of $ \\bar{E} $'s with the same distribution of that generated by the original Monte Carlo method!\n",
    "\n",
    "\n",
    "Missing: Section on binning\n",
    "\n",
    "Missing: code realization"
   ]
  },
  {
   "cell_type": "code",
   "execution_count": null,
   "id": "7b1325ff-8bb3-4a62-89c1-387ec13bc013",
   "metadata": {},
   "outputs": [],
   "source": []
  },
  {
   "cell_type": "markdown",
   "id": "0170cade-ffd2-4e30-9798-712849fa362f",
   "metadata": {},
   "source": [
    "## Field theory on a Lattice"
   ]
  },
  {
   "cell_type": "markdown",
   "id": "c0c44306-b83c-43ae-8e07-08b644ad4264",
   "metadata": {},
   "source": [
    "From quantum mechanics to field theory, the analogous quantity of interest turns from $ x(t) \\longrightarrow $ to fields $ \\phi(x) $ or $ A_u(x) $ where x now represents the four position $ x = (t, \\vec{x}) $. The analogy to the QM ground state is the vacuum state $ \\ket{0} $: the analogous excited states created by $ \\phi^{m} \\ket{0} $ with $ m \\in N $, and they now correspond to $ r $ particles.\n",
    "\n",
    "In the lattice approximation, both space and time are discrete. The nodes, or **sites**, of the grid are separated by lattice spacing a, with total side length L. The lines which join sites along basis vectors are called **links**. The quantum field can be specified by its values at the grid sites"
   ]
  },
  {
   "cell_type": "markdown",
   "id": "a2b3ada2-b4b7-4097-96f5-09a19b5a4c85",
   "metadata": {},
   "source": [
    "<!-- ![alt](FieldOnALattice_1.png) | ![alt](LatticeVocab.png) -->\n",
    "\n",
    "<table>\n",
    "    <td> <img src=\"LatticeVocab.png\" alt=\"Drawing\" style=\"width: 250px;\"/> </td><td> <img src=\"FieldOnALattice_1.png\" alt=\"Drawing\" style=\"width: 250px;\"/> </td>\n",
    "</table>"
   ]
  },
  {
   "cell_type": "markdown",
   "id": "4c70b089-6e34-4ffd-a6e8-ea344e1544c0",
   "metadata": {},
   "source": [
    "A field configuration is described by the set of its values on grid sites $ \\phi(x_j), \\forall \\ x_j \\in grid $. The path integral generalizes as \n",
    "\n",
    "$$ \\left<\\Gamma[\\phi]\\right> \\equiv \\frac{1}{Z} \\int e^{-S[\\phi]} \\Gamma[\\phi] \\ \\prod_{x_j \\in grid} d\\phi(x_j) $$\n",
    "\n",
    "where $ Z $ is the normalization \n",
    "\n",
    "$$ \\int e^{-S[\\phi]} \\prod_{x_j \\in grid} d\\phi(x_j) $$\n",
    "\n",
    "We will get to the meaning of $ S[\\phi] $ soon. With this formulism, we study excitations of the field theory with operators like\n",
    "\n",
    "$$ \\Gamma(t) \\equiv \\frac{1}{\\sqrt{N}} \\sum_{\\vec{x}_j} \\phi(\\vec{x}_j,t) $$\n",
    "\n",
    "The sum over $ N $ spatial $ \\vec{x}_j $'s enforces zero three-momentum (?). The analagous excited states, being linked to particle creation, are actually the energies of the particles themselves: our analogy continues (missing: repeat QM expression)\n",
    "\n",
    "$$ \\left<\\Gamma(t)\\Gamma(0)\\right> \\longrightarrow ^{t large} \\left| \\bramket{0}{\\Gamma(0)}{\\phi: \\vec{p} = \\vec{0}} \\right| ^2 e^{-m_\\phi t} $$\n",
    "\n",
    "This is a $ \\phi $ 1-particle state with 0 three-momentum and mass $ m_\\phi $."
   ]
  },
  {
   "cell_type": "markdown",
   "id": "c47b23f7-905d-46fd-ab4e-0433ee8d23d7",
   "metadata": {},
   "source": [
    "### Coarse discretization of lattices"
   ]
  },
  {
   "cell_type": "markdown",
   "id": "e0da3bce-4f22-4c97-83f0-c3c69a85b645",
   "metadata": {},
   "source": [
    "Early enthusiasm for computational approaches to QCD where cooled by sobering estimates of the computational expense of numerically evaluating path integrals. Today, these problems have been impressively (but not absolutely mitigated). One reason is obviously the exponential increase in computational power. The other is actually... idk how to condense\n",
    "\n",
    "$$ cost \\approx \\left(\\frac{L}{a}\\right)^4 \\frac{1}{a} \\frac{1}{m^2_\\pi a} $$"
   ]
  },
  {
   "cell_type": "markdown",
   "id": "7a320a8e-ebc2-4c26-aa65-4a6c8dcb0a63",
   "metadata": {},
   "source": [
    "In field theory, the field-momentum is a little more abract, namely $ \\left(\\partial_\\mu \\phi \\right)^2 \\neq \\partial^2_\\mu \\phi $. We need an expression for the RHS of the previous equation: try\n",
    "\n",
    "$$ \\frac{\\partial\\phi(x)}{\\partial x} = \\frac{1}{a} \\left(\\phi_{x} - \\phi_{x-a} \\right) + \\vartheta(a) $$\n",
    "$$ \\frac{\\partial^2 \\phi(x)}{\\partial x^2} = \\frac{1}{a^2} \\left[\\left(\\phi(x+a) - \\phi(x)\\right) - \\left(\\phi(x) - \\phi(x-a)\\right) \\right] + \\vartheta(a^2) = \\frac{1}{a^2} \\left[\\phi(x-a) + \\phi(x+a) - 2\\phi(x)\\right] + \\vartheta(a^2) $$\n",
    "\n",
    "There is one better, though I offer no explanation. Defining the previous quantity as\n",
    "\n",
    "$$ \\Delta^{(2)}_x \\phi(x) = \\frac{1}{a^2} \\left[\\phi(x-a) + \\phi(x+a) - 2\\phi(x)\\right] $$\n",
    "\n",
    "we will be using\n",
    "\n",
    "$$ \\frac{\\partial^2 \\phi(x_j)}{\\partial x^2} \\equiv \\Delta^{(2)}_{x_j} \\phi(x_j) - \\frac{a^2}{12} (\\Delta^{(2)}_{x_j} \\phi(x))^2 \\phi(x_j) + \\vartheta(a^4) $$\n",
    "\n",
    "going forward. This is claimed to be accurate to a few percent even when acting on structures in $ \\phi(x) $ that are as small as 4-5 lattice spacings across [?]. The naive expectation is that investigating hadrons will require lattice spacings of only ~.2 of their diameter. However, consideration must be given to the shortest wavelengths we are able to model on a lattice spaced like that. \n",
    "\n",
    "The minimum oscillation we are able to model has wavelength $ \\lambda_{min} = 2a $--the oscillation finishes at an adjacent site. This means that gluons and quarks with momenta $ p = 2\\pi/\\lambda $ larger than $ 2\\pi/\\lambda_{min} = \\pi/a $ are excluded from our calculations, acting as a filter or an ultraviolet cutoff. For noisy nonlinear interacting quantum field theories, ultraviolet modes strongly affect lower energy states. \n",
    "\n",
    "Luckily, smart people have figured out how to mimic the effect on lower energy states. It's done by changing, or 'renormalizing', the parameters in the discretized theory and by adding new local interactions. As an example, the discretized kinetic Lagrangian for an interacting scalar theory is\n",
    "\n",
    "$$ \\sum_\\mu \\frac{1}{2} \\phi^\\dagger \\partial_{\\mu^2} \\phi \\longrightarrow \\sum_\\mu \\frac{1}{2} \\left( \\phi^\\dagger \\Delta^{(2)}_x \\phi(x) \\phi + a^2 c (\\phi^\\dagger \\Delta^{(2)}_x \\phi(x))^2 \\right) $$\n",
    "\n",
    "where c is a parameter with two parts: $ \\frac{-1}{12} $ from our numerical derivative, and an additional renormalization due to cutoff. The later is typically context dependent and must be computed using QFT. Since QCD is perturbative at high energies, we can write $c$ for it as a function of the running strong coupling\n",
    "\n",
    "$$ c = \\frac{-1}{12} + c_1 \\alpha_s(\\pi/a) + c_2 \\alpha^2_s(\\pi/a) \\ + \\ ... $$\n",
    "\n",
    "According to Lepage (2005), this perturbative approach works for lattice spacings smaller than 0.05-0.1 fm.\n"
   ]
  },
  {
   "cell_type": "markdown",
   "id": "37158829-9819-4395-b85e-2be4b20c1a2a",
   "metadata": {
    "tags": []
   },
   "source": [
    "### A test of the new action"
   ]
  },
  {
   "cell_type": "code",
   "execution_count": null,
   "id": "04456a65-46ec-45cc-a836-efd7abe2d463",
   "metadata": {},
   "outputs": [],
   "source": []
  },
  {
   "cell_type": "code",
   "execution_count": null,
   "id": "9d498890-d7ed-4a3c-ab5a-56e9035420e9",
   "metadata": {},
   "outputs": [],
   "source": []
  },
  {
   "cell_type": "markdown",
   "id": "7ae8336f-eee9-4def-8cc5-aa36853bf3a2",
   "metadata": {},
   "source": [
    "## QCD on a Lattice"
   ]
  },
  {
   "cell_type": "markdown",
   "id": "7d163632-6d49-4be3-80ad-928edd5d0e64",
   "metadata": {},
   "source": [
    "### Building a gauge invariant lattice theory"
   ]
  },
  {
   "cell_type": "code",
   "execution_count": null,
   "id": "d8df3a66-55cb-4eb2-9619-7c62a7d0e133",
   "metadata": {},
   "outputs": [],
   "source": []
  },
  {
   "cell_type": "markdown",
   "id": "10ed37ed-fb3f-4d79-a466-06dc3be9c43d",
   "metadata": {},
   "source": [
    "#### Important definition: The Wilson Loop function"
   ]
  },
  {
   "cell_type": "code",
   "execution_count": null,
   "id": "77670827-d1ab-4ade-a69c-4869c1c12fb0",
   "metadata": {},
   "outputs": [],
   "source": []
  },
  {
   "cell_type": "markdown",
   "id": "b5d67e83-95cf-4532-8c3a-001a86c62605",
   "metadata": {},
   "source": [
    "### Quantum Gluons: Quantum effects in perturbation theory"
   ]
  },
  {
   "cell_type": "code",
   "execution_count": null,
   "id": "98d2693c-bd2b-4359-a776-b66f117cca72",
   "metadata": {},
   "outputs": [],
   "source": []
  },
  {
   "cell_type": "markdown",
   "id": "2c68e5ae-e7aa-4874-b2e5-77f42c8f5b52",
   "metadata": {},
   "source": [
    "### Monte Carlo Evaluation of Path Integrals"
   ]
  },
  {
   "cell_type": "code",
   "execution_count": null,
   "id": "231e80ac-dc1e-4346-9859-707620d7d08a",
   "metadata": {},
   "outputs": [],
   "source": []
  },
  {
   "cell_type": "markdown",
   "id": "3b85cd7c-3405-4ef9-89ea-bd28c5e5cff7",
   "metadata": {},
   "source": [
    "### Our first application of Lattice QCD"
   ]
  },
  {
   "cell_type": "code",
   "execution_count": null,
   "id": "70a7a3fd-7f58-4cc0-a65d-819f96a2c96f",
   "metadata": {},
   "outputs": [],
   "source": []
  },
  {
   "cell_type": "markdown",
   "id": "ee3150b5-3194-478c-a230-7cdff61932ac",
   "metadata": {},
   "source": [
    "#### Another computational speedup: Smeared links"
   ]
  },
  {
   "cell_type": "code",
   "execution_count": null,
   "id": "46e13db1-02c9-425c-b1a0-8a508c6d75e7",
   "metadata": {},
   "outputs": [],
   "source": []
  },
  {
   "cell_type": "code",
   "execution_count": null,
   "id": "b6077e1b-4f2f-469b-96e5-b5e52dfcf534",
   "metadata": {},
   "outputs": [],
   "source": []
  },
  {
   "cell_type": "markdown",
   "id": "f12d8cc4-2586-4402-ac55-7c3a9bebf14d",
   "metadata": {},
   "source": [
    "## References"
   ]
  },
  {
   "cell_type": "code",
   "execution_count": null,
   "id": "042603a2-3a88-4314-a32e-eb7eee1d555e",
   "metadata": {},
   "outputs": [],
   "source": []
  }
 ],
 "metadata": {
  "kernelspec": {
   "display_name": "Python 3",
   "language": "python",
   "name": "python3"
  },
  "language_info": {
   "codemirror_mode": {
    "name": "ipython",
    "version": 3
   },
   "file_extension": ".py",
   "mimetype": "text/x-python",
   "name": "python",
   "nbconvert_exporter": "python",
   "pygments_lexer": "ipython3",
   "version": "3.6.13"
  },
  "toc-autonumbering": false
 },
 "nbformat": 4,
 "nbformat_minor": 5
}
